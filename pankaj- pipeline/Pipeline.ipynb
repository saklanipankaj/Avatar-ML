{
 "cells": [
  {
   "cell_type": "markdown",
   "id": "f6a184c7-c23e-415e-8dbe-366e4c80edfc",
   "metadata": {},
   "source": [
    "# Load Pipeline Libraries"
   ]
  },
  {
   "cell_type": "code",
   "execution_count": 1,
   "id": "b4b995eb-58c2-495b-b533-a1e3ed143dff",
   "metadata": {
    "execution": {
     "iopub.execute_input": "2025-04-04T01:48:24.589272Z",
     "iopub.status.busy": "2025-04-04T01:48:24.588872Z",
     "iopub.status.idle": "2025-04-04T01:48:25.441529Z",
     "shell.execute_reply": "2025-04-04T01:48:25.440987Z",
     "shell.execute_reply.started": "2025-04-04T01:48:24.589252Z"
    }
   },
   "outputs": [
    {
     "name": "stdout",
     "output_type": "stream",
     "text": [
      "sagemaker.config INFO - Fetched defaults config from location: /etc/xdg/sagemaker/config.yaml\n",
      "sagemaker.config INFO - Not applying SDK defaults from location: /home/sagemaker-user/.config/sagemaker/config.yaml\n",
      "sagemaker.config INFO - Applied value from config key = SageMaker.PythonSDK.Modules.Session.DefaultS3Bucket\n",
      "sagemaker.config INFO - Applied value from config key = SageMaker.PythonSDK.Modules.Session.DefaultS3ObjectKeyPrefix\n"
     ]
    }
   ],
   "source": [
    "import sagemaker\n",
    "import boto3\n",
    "import os\n",
    "from sagemaker.workflow.pipeline import Pipeline\n",
    "from sagemaker.workflow.steps import TrainingStep, ProcessingStep, CacheConfig\n",
    "from sagemaker.workflow.model_step import ModelStep\n",
    "from sagemaker.workflow.parameters import (\n",
    "    ParameterInteger,\n",
    "    ParameterString,\n",
    "    ParameterFloat,\n",
    "    ParameterBoolean\n",
    ")\n",
    "\n",
    "from sagemaker.workflow.pipeline_context import PipelineSession\n",
    "from sagemaker.pytorch import PyTorch, PyTorchModel\n",
    "from sagemaker.processing import FrameworkProcessor, ProcessingInput, ProcessingOutput\n",
    "from sagemaker.inputs import TrainingInput\n",
    "from sagemaker.workflow.properties import PropertyFile\n",
    "from sagemaker.model_metrics import MetricsSource, ModelMetrics\n",
    "from sagemaker.drift_check_baselines import DriftCheckBaselines\n",
    "\n",
    "from botocore.exceptions import ClientError"
   ]
  },
  {
   "cell_type": "markdown",
   "id": "56a8aaa6-6625-46de-89f1-7196a3ccfef7",
   "metadata": {},
   "source": [
    "# Intilise Global Variables"
   ]
  },
  {
   "cell_type": "code",
   "execution_count": 2,
   "id": "cde79f69-544d-4290-979d-e4af0223f0ed",
   "metadata": {
    "execution": {
     "iopub.execute_input": "2025-04-04T01:48:25.444888Z",
     "iopub.status.busy": "2025-04-04T01:48:25.444620Z",
     "iopub.status.idle": "2025-04-04T01:48:26.505168Z",
     "shell.execute_reply": "2025-04-04T01:48:26.504660Z",
     "shell.execute_reply.started": "2025-04-04T01:48:25.444862Z"
    }
   },
   "outputs": [
    {
     "name": "stdout",
     "output_type": "stream",
     "text": [
      "sagemaker.config INFO - Applied value from config key = SageMaker.PythonSDK.Modules.Session.DefaultS3Bucket\n",
      "sagemaker.config INFO - Applied value from config key = SageMaker.PythonSDK.Modules.Session.DefaultS3ObjectKeyPrefix\n",
      "sagemaker.config INFO - Applied value from config key = SageMaker.PythonSDK.Modules.Session.DefaultS3Bucket\n",
      "sagemaker.config INFO - Applied value from config key = SageMaker.PythonSDK.Modules.Session.DefaultS3ObjectKeyPrefix\n"
     ]
    }
   ],
   "source": [
    "# Get SageMaker session, default bucket, and execution role\n",
    "role = sagemaker.get_execution_role()\n",
    "sess = sagemaker.Session()\n",
    "region = sess.boto_region_name\n",
    "default_bucket = sess.default_bucket()\n",
    "# Project Prefix needs to be the location in S3 where your project resides\n",
    "project_prefix = \"/\".join(sess.default_bucket_prefix.split(\"/\")[0:2])\n",
    "\n",
    "input_s3_uri = f\"s3://{default_bucket}/{project_prefix}/Datasets/Cityscape_Dataset/\"\n",
    "\n",
    "pipeline_name = \"Detectron2ModelPipeline-Pankaj\"\n",
    "\n",
    "#  Model Registry Creation for Model\n",
    "model_package_group_name = \"maskrcnn-R-50FPN-inst-seg-det2\"\n",
    "# Change to description of your model and purpose\n",
    "model_package_group_desc = \"Detectron 2 Instance Segementaion Model Fine-tuned on Cityscape\"\n",
    "\n",
    "py_version = \"py3\"\n",
    "pytorch_version = \"1.6.0\"\n",
    "\n",
    "# Instead of getting them here, we'll define them as parameters"
   ]
  },
  {
   "cell_type": "markdown",
   "id": "ae4cd9b9-528f-4be4-9190-fd1372226a9d",
   "metadata": {},
   "source": [
    "# Create Model Package Group (Required)"
   ]
  },
  {
   "cell_type": "code",
   "execution_count": 3,
   "id": "add80e41-00b2-45c1-acc9-cc7f330135bb",
   "metadata": {
    "execution": {
     "iopub.execute_input": "2025-04-04T01:48:26.507734Z",
     "iopub.status.busy": "2025-04-04T01:48:26.507449Z",
     "iopub.status.idle": "2025-04-04T01:48:26.798276Z",
     "shell.execute_reply": "2025-04-04T01:48:26.797741Z",
     "shell.execute_reply.started": "2025-04-04T01:48:26.507707Z"
    }
   },
   "outputs": [
    {
     "name": "stdout",
     "output_type": "stream",
     "text": [
      "SageMaker client created for region: ap-southeast-1\n",
      "Attempting to create Model Package Group: maskrcnn-R-50FPN-inst-seg-det2...\n",
      "Model Package Group 'maskrcnn-R-50FPN-inst-seg-det2' already exists.\n",
      "Skipping creation.\n",
      "Existing ModelPackageGroup Arn : arn:aws:sagemaker:ap-southeast-1:654654454011:model-package-group/maskrcnn-R-50FPN-inst-seg-det2\n"
     ]
    }
   ],
   "source": [
    "# Create SageMaker client\n",
    "sm_client = boto3.client('sagemaker', region_name=region)\n",
    "print(f\"SageMaker client created for region: {region}\")\n",
    "\n",
    "# Attempt to create the Model Package Group\n",
    "try:\n",
    "    model_package_group_input_dict = {\n",
    "        \"ModelPackageGroupName\": model_package_group_name,\n",
    "        \"ModelPackageGroupDescription\": model_package_group_desc,\n",
    "    }\n",
    "    print(f\"Attempting to create Model Package Group: {model_package_group_name}...\")\n",
    "    create_model_package_group_response = sm_client.create_model_package_group(\n",
    "        **model_package_group_input_dict\n",
    "    )\n",
    "    print(f\"Successfully created Model Package Group.\")\n",
    "    print(f\"ModelPackageGroup Arn : {create_model_package_group_response['ModelPackageGroupArn']}\")\n",
    "\n",
    "except ClientError as e:\n",
    "    error_code = e.response.get('Error', {}).get('Code')\n",
    "    error_message = e.response.get('Error', {}).get('Message', '')\n",
    "\n",
    "    # Check if the error is because the group already exist\n",
    "    # 'ResourceInUseException' is the typical error code for this scenario\n",
    "    if error_code == 'ResourceInUseException' or 'already exists' in error_message.lower():\n",
    "        print(f\"Model Package Group '{model_package_group_name}' already exists.\\nSkipping creation.\")\n",
    "        try:\n",
    "            describe_response = sm_client.describe_model_package_group(ModelPackageGroupName=model_package_group_name)\n",
    "            print(f\"Existing ModelPackageGroup Arn : {describe_response['ModelPackageGroupArn']}\")\n",
    "        except ClientError as desc_e:\n",
    "             print(f\"Could not describe existing group '{model_package_group_name}': {desc_e}\")\n",
    "\n",
    "    else:\n",
    "        print(f\"Error creating Model Package Group '{model_package_group_name}': {error_message} (Code: {error_code})\")\n",
    "        raise e"
   ]
  },
  {
   "cell_type": "markdown",
   "id": "0ef6e54a-15c0-4d65-ac87-c22a58493f82",
   "metadata": {
    "execution": {
     "iopub.execute_input": "2025-04-02T13:07:09.274548Z",
     "iopub.status.busy": "2025-04-02T13:07:09.274206Z",
     "iopub.status.idle": "2025-04-02T13:07:09.277837Z",
     "shell.execute_reply": "2025-04-02T13:07:09.277245Z",
     "shell.execute_reply.started": "2025-04-02T13:07:09.274519Z"
    }
   },
   "source": [
    "# Define Pipeline Parameters (Customise as Required)"
   ]
  },
  {
   "cell_type": "markdown",
   "id": "c501c958-c43d-446e-b7e5-bc6127f20b23",
   "metadata": {},
   "source": [
    "## Pipeline Parameters"
   ]
  },
  {
   "cell_type": "code",
   "execution_count": 4,
   "id": "46a00198-9216-4530-82c7-4e83e03b329f",
   "metadata": {
    "execution": {
     "iopub.execute_input": "2025-04-04T01:48:26.802595Z",
     "iopub.status.busy": "2025-04-04T01:48:26.802190Z",
     "iopub.status.idle": "2025-04-04T01:48:26.806445Z",
     "shell.execute_reply": "2025-04-04T01:48:26.805879Z",
     "shell.execute_reply.started": "2025-04-04T01:48:26.802562Z"
    }
   },
   "outputs": [],
   "source": [
    "param_processing_instance_count = ParameterInteger(\n",
    "    name=\"ProcessingInstanceCount\",\n",
    "    default_value=1\n",
    ")\n",
    "param_processing_instance_type = ParameterString(\n",
    "    name=\"ProcessingInstanceType\",\n",
    "    default_value=\"ml.m5.xlarge\" # Default, can override\n",
    ")\n",
    "param_training_instance_count = ParameterInteger(\n",
    "    name=\"TrainingInstanceCount\",\n",
    "    default_value=1\n",
    ")\n",
    "param_training_instance_type = ParameterString(\n",
    "    name=\"TrainingInstanceType\",\n",
    "    default_value=\"ml.g4dn.xlarge\"\n",
    ")"
   ]
  },
  {
   "cell_type": "markdown",
   "id": "96248856-d31f-42ef-ada1-58e796c0ba19",
   "metadata": {},
   "source": [
    "## Data Parameters"
   ]
  },
  {
   "cell_type": "code",
   "execution_count": 5,
   "id": "4172f6e6-877f-4351-b623-cef7a45e5b86",
   "metadata": {
    "execution": {
     "iopub.execute_input": "2025-04-04T01:48:26.810177Z",
     "iopub.status.busy": "2025-04-04T01:48:26.809914Z",
     "iopub.status.idle": "2025-04-04T01:48:26.813622Z",
     "shell.execute_reply": "2025-04-04T01:48:26.813102Z",
     "shell.execute_reply.started": "2025-04-04T01:48:26.810155Z"
    }
   },
   "outputs": [],
   "source": [
    "param_input_data_s3_uri = ParameterString(\n",
    "    name=\"InputDataS3Uri\",\n",
    "    default_value=f\"s3://{default_bucket}/{project_prefix}/Dataset/\"\n",
    ")\n",
    "\n",
    "param_eval_data_s3_uri = ParameterString(\n",
    "    name=\"EvalDataS3Uri\",\n",
    "    default_value=\"\" # Set if evaluation requires separate data\n",
    ")"
   ]
  },
  {
   "cell_type": "markdown",
   "id": "e8fb6262-bdf9-46c4-8fb7-f378576f0de1",
   "metadata": {},
   "source": [
    "## Model & Training Parameters"
   ]
  },
  {
   "cell_type": "code",
   "execution_count": 6,
   "id": "53ad05a7-e1bc-4f18-893d-3b45d7a8897e",
   "metadata": {
    "execution": {
     "iopub.execute_input": "2025-04-04T01:48:26.815868Z",
     "iopub.status.busy": "2025-04-04T01:48:26.815701Z",
     "iopub.status.idle": "2025-04-04T01:48:26.819157Z",
     "shell.execute_reply": "2025-04-04T01:48:26.818658Z",
     "shell.execute_reply.started": "2025-04-04T01:48:26.815852Z"
    }
   },
   "outputs": [],
   "source": [
    "param_model_approval_status = ParameterString(\n",
    "    name=\"ModelApprovalStatus\",\n",
    "    default_value=\"PendingManualApproval\"\n",
    ")"
   ]
  },
  {
   "cell_type": "markdown",
   "id": "a83159ca-d343-460f-83ae-5c16009ca312",
   "metadata": {
    "execution": {
     "iopub.execute_input": "2025-04-02T13:19:22.149590Z",
     "iopub.status.busy": "2025-04-02T13:19:22.149259Z",
     "iopub.status.idle": "2025-04-02T13:19:22.152419Z",
     "shell.execute_reply": "2025-04-02T13:19:22.151886Z",
     "shell.execute_reply.started": "2025-04-02T13:19:22.149568Z"
    }
   },
   "source": [
    "### Project Specific Parameters"
   ]
  },
  {
   "cell_type": "code",
   "execution_count": 7,
   "id": "471ab7c3-b2da-4f6b-b30e-7bf7ecfd896e",
   "metadata": {
    "execution": {
     "iopub.execute_input": "2025-04-04T01:48:26.821552Z",
     "iopub.status.busy": "2025-04-04T01:48:26.821378Z",
     "iopub.status.idle": "2025-04-04T01:48:26.825956Z",
     "shell.execute_reply": "2025-04-04T01:48:26.825450Z",
     "shell.execute_reply.started": "2025-04-04T01:48:26.821536Z"
    }
   },
   "outputs": [],
   "source": [
    "param_d2_model_config_name = ParameterString(\n",
    "    name=\"Detectron2ModelConfig\",\n",
    "    default_value=\"COCO-InstanceSegmentation/mask_rcnn_R_101_DC5_3x.yaml\",\n",
    ")\n",
    "\n",
    "param_d2_dataset_train_name = ParameterString(\n",
    "    name=\"Detectron2DatasetTrainName\",\n",
    "    default_value=\"cityspace_train\",\n",
    ")\n",
    "\n",
    "param_d2_learning_rate = ParameterFloat(name=\"LearningRate\", default_value=0.00025)\n",
    "param_d2_max_iter = ParameterInteger(name=\"MaxIter\", default_value=400)\n",
    "param_d2_ims_per_batch = ParameterInteger(name=\"ImagesPerBatch\", default_value=2)\n",
    "param_d2_num_workers = ParameterInteger(name=\"NumWorkers\", default_value=2)\n",
    "param_d2_checkpoint_period = ParameterInteger(name=\"CheckpointPeriod\", default_value=500)\n",
    "param_d2_freeze_at = ParameterInteger(name=\"FreezeAt\", default_value=2)\n",
    "param_d2_roi_batch_size_per_image = ParameterInteger(name=\"RoiBatchSizePerImage\", default_value=256)\n",
    "param_d2_resume_training = ParameterBoolean(name=\"ResumeTraining\", default_value=True)"
   ]
  },
  {
   "cell_type": "markdown",
   "id": "ae7ab14a-2434-40b2-8ef3-71985f412bc0",
   "metadata": {},
   "source": [
    "# Training Step"
   ]
  },
  {
   "cell_type": "code",
   "execution_count": 8,
   "id": "55c6a5d4-40dc-45cf-8ab6-0180add88ab8",
   "metadata": {
    "execution": {
     "iopub.execute_input": "2025-04-04T01:48:26.828277Z",
     "iopub.status.busy": "2025-04-04T01:48:26.828110Z",
     "iopub.status.idle": "2025-04-04T01:48:28.269232Z",
     "shell.execute_reply": "2025-04-04T01:48:28.268704Z",
     "shell.execute_reply.started": "2025-04-04T01:48:26.828260Z"
    }
   },
   "outputs": [
    {
     "name": "stdout",
     "output_type": "stream",
     "text": [
      "sagemaker.config INFO - Applied value from config key = SageMaker.PythonSDK.Modules.Session.DefaultS3Bucket\n",
      "sagemaker.config INFO - Applied value from config key = SageMaker.PythonSDK.Modules.Session.DefaultS3ObjectKeyPrefix\n",
      "sagemaker.config INFO - Applied value from config key = SageMaker.TrainingJob.VpcConfig.Subnets\n",
      "sagemaker.config INFO - Applied value from config key = SageMaker.TrainingJob.VpcConfig.SecurityGroupIds\n"
     ]
    }
   ],
   "source": [
    "source_dir = \"./\" # Location of all the scripts\n",
    "\n",
    "# Define the Pytorch Estimator\n",
    "pytorch_estimator = PyTorch(\n",
    "    entry_point=\"train.py\",\n",
    "    source_dir=source_dir,\n",
    "    role=role,\n",
    "    framework_version=pytorch_version,\n",
    "    py_version=py_version,\n",
    "    instance_count=param_training_instance_count,\n",
    "    instance_type=param_training_instance_type,\n",
    "    hyperparameters={\n",
    "        \"model-config-name\": param_d2_model_config_name,\n",
    "        \"dataset-train-name\": param_d2_dataset_train_name,\n",
    "        \"learning-rate\": param_d2_learning_rate,\n",
    "        \"max-iter\": param_d2_max_iter,\n",
    "        \"ims-per-batch\": param_d2_ims_per_batch,\n",
    "        \"num-workers\": param_d2_num_workers,\n",
    "        \"checkpoint-period\": param_d2_checkpoint_period,\n",
    "        \"freeze-at\": param_d2_freeze_at,\n",
    "        \"roi-batch-size-per-image\": param_d2_roi_batch_size_per_image,\n",
    "        \"resume\": param_d2_resume_training\n",
    "    },\n",
    "    # The output path for model artifacts is automatically managed by SageMaker\n",
    "    # train.py should save the final model to os.environ['SM_MODEL_DIR']\n",
    "    sagemaker_session=PipelineSession(),\n",
    "    requirements_file=os.path.join(source_dir, \"requirements.txt\")\n",
    "    # checkpoint_s3_uri: If resuming, SageMaker might handle this if configured correctly,\n",
    "    # otherwise train.py needs logic to load from a specific path (e.g., passed via hyperparameter)\n",
    "    # checkpoint_local_path=\"/opt/ml/checkpoints\", # Default checkpoint location inside container\n",
    ")"
   ]
  },
  {
   "cell_type": "code",
   "execution_count": 9,
   "id": "0e15aa3e-0a95-4313-8335-5eb51d36e015",
   "metadata": {
    "execution": {
     "iopub.execute_input": "2025-04-04T01:48:28.270297Z",
     "iopub.status.busy": "2025-04-04T01:48:28.269966Z",
     "iopub.status.idle": "2025-04-04T01:48:28.339102Z",
     "shell.execute_reply": "2025-04-04T01:48:28.338614Z",
     "shell.execute_reply.started": "2025-04-04T01:48:28.270268Z"
    }
   },
   "outputs": [],
   "source": [
    "# Define Training Step\n",
    "step_train = TrainingStep(\n",
    "    name=\"TrainDetectron2Model\",\n",
    "    estimator=pytorch_estimator,\n",
    "    inputs={\n",
    "        # Define training data input. train.py will access this via /opt/ml/input/data/training\n",
    "        \"training\": TrainingInput(\n",
    "            s3_data=param_input_data_s3_uri,\n",
    "            distribution=\"FullyReplicated\",\n",
    "            content_type=\"application/octet-stream\", # Adjust if needed\n",
    "            s3_data_type=\"S3Prefix\",\n",
    "        )\n",
    "        # Add more channels if train.py expects them (e.g., 'validation')\n",
    "    },\n",
    "    cache_config=CacheConfig(enable_caching=True, expire_after=\"30d\") # Optional: Cache step results\n",
    ")"
   ]
  },
  {
   "cell_type": "markdown",
   "id": "a6e2dd05-71e7-4dc5-82e9-46755c808485",
   "metadata": {},
   "source": [
    "# Evaluation Step"
   ]
  },
  {
   "cell_type": "code",
   "execution_count": 10,
   "id": "7c79ab7a-6976-4a5a-8ede-fca19f1c08c9",
   "metadata": {
    "execution": {
     "iopub.execute_input": "2025-04-04T01:48:28.341887Z",
     "iopub.status.busy": "2025-04-04T01:48:28.341530Z",
     "iopub.status.idle": "2025-04-04T01:48:30.312280Z",
     "shell.execute_reply": "2025-04-04T01:48:30.311703Z",
     "shell.execute_reply.started": "2025-04-04T01:48:28.341866Z"
    }
   },
   "outputs": [
    {
     "name": "stdout",
     "output_type": "stream",
     "text": [
      "sagemaker.config INFO - Applied value from config key = SageMaker.PythonSDK.Modules.Session.DefaultS3Bucket\n",
      "sagemaker.config INFO - Applied value from config key = SageMaker.PythonSDK.Modules.Session.DefaultS3ObjectKeyPrefix\n",
      "sagemaker.config INFO - Applied value from config key = SageMaker.ProcessingJob.NetworkConfig.VpcConfig.Subnets\n",
      "sagemaker.config INFO - Applied value from config key = SageMaker.ProcessingJob.NetworkConfig.VpcConfig.SecurityGroupIds\n",
      "sagemaker.config INFO - Applied value from config key = SageMaker.TrainingJob.VpcConfig.Subnets\n",
      "sagemaker.config INFO - Applied value from config key = SageMaker.TrainingJob.VpcConfig.SecurityGroupIds\n"
     ]
    }
   ],
   "source": [
    "eval_processor = FrameworkProcessor(\n",
    "    estimator_cls=PyTorch,\n",
    "    framework_version=pytorch_version,\n",
    "    py_version=py_version,\n",
    "    role=role,\n",
    "    instance_count=param_processing_instance_count,\n",
    "    instance_type=param_processing_instance_type,\n",
    "    sagemaker_session=PipelineSession(),\n",
    ")"
   ]
  },
  {
   "cell_type": "code",
   "execution_count": 11,
   "id": "4f0b80b3-1ec6-4529-8817-6f24aae731b8",
   "metadata": {
    "execution": {
     "iopub.execute_input": "2025-04-04T01:48:30.313237Z",
     "iopub.status.busy": "2025-04-04T01:48:30.312961Z",
     "iopub.status.idle": "2025-04-04T01:48:30.316363Z",
     "shell.execute_reply": "2025-04-04T01:48:30.315808Z",
     "shell.execute_reply.started": "2025-04-04T01:48:30.313219Z"
    }
   },
   "outputs": [],
   "source": [
    "# Define PropertyFile for capturing evaluation results\n",
    "evaluation_report = PropertyFile(\n",
    "    name=\"EvaluationReport\",\n",
    "    output_name=\"evaluation\", # Must match output name in ProcessingStep\n",
    "    path=\"evaluation.json\",    # Must match the filename saved by evaluate.py\n",
    ")"
   ]
  },
  {
   "cell_type": "code",
   "execution_count": 12,
   "id": "6257e090-6486-495a-8ff7-f939b4325f19",
   "metadata": {
    "execution": {
     "iopub.execute_input": "2025-04-04T01:48:30.317352Z",
     "iopub.status.busy": "2025-04-04T01:48:30.317132Z",
     "iopub.status.idle": "2025-04-04T01:48:30.323116Z",
     "shell.execute_reply": "2025-04-04T01:48:30.322594Z",
     "shell.execute_reply.started": "2025-04-04T01:48:30.317328Z"
    }
   },
   "outputs": [],
   "source": [
    "# Define Evaluation Processing Step\n",
    "step_eval = ProcessingStep(\n",
    "    name=\"EvaluateModel\",\n",
    "    processor=eval_processor,\n",
    "    inputs=[\n",
    "        ProcessingInput(\n",
    "            source=step_train.properties.ModelArtifacts.S3ModelArtifacts, # Get model from training step\n",
    "            destination=\"/opt/ml/processing/model\",\n",
    "        ),\n",
    "        ProcessingInput(\n",
    "            source=param_eval_data_s3_uri, # Pass training data (or specific eval data)\n",
    "            destination=\"/opt/ml/processing/input_data\",\n",
    "            input_name=\"input_data\",\n",
    "            s3_data_type=\"S3Prefix\",\n",
    "        ),\n",
    "        # Add separate evaluation data input if needed\n",
    "        # ProcessingInput(\n",
    "        #     source=param_eval_data_s3_uri,\n",
    "        #     destination=\"/opt/ml/processing/eval_data\",\n",
    "        #     input_name=\"eval_data\",\n",
    "        #     s3_data_type=\"S3Prefix\",\n",
    "        # ),\n",
    "    ],\n",
    "    outputs=[\n",
    "        ProcessingOutput(\n",
    "            output_name=\"evaluation\", # Must match PropertyFile output_name\n",
    "            source=\"/opt/ml/processing/evaluation\", # evaluate.py saves report here\n",
    "            destination=f\"s3://{default_bucket}/{project_prefix}/evaluation\"\n",
    "        ),\n",
    "    ],\n",
    "    code=os.path.join(source_dir, \"evaluate.py\"), # Path to evaluation script\n",
    "    property_files=[evaluation_report], # Link the PropertyFile\n",
    "    job_arguments=[ # Pass arguments to evaluate.py if needed\n",
    "        \"--model-config-name\", param_d2_model_config_name,\n",
    "        \"--dataset-train-name\", param_d2_dataset_train_name, # Or a specific eval dataset name\n",
    "    ]\n",
    ")"
   ]
  },
  {
   "cell_type": "markdown",
   "id": "6f479e29-3457-444a-a042-972af58d0823",
   "metadata": {},
   "source": [
    "# Register Model Step"
   ]
  },
  {
   "cell_type": "code",
   "execution_count": 13,
   "id": "4401bb31-b170-40d5-aaf7-cc00343ba08c",
   "metadata": {
    "execution": {
     "iopub.execute_input": "2025-04-04T01:48:30.327808Z",
     "iopub.status.busy": "2025-04-04T01:48:30.327254Z",
     "iopub.status.idle": "2025-04-04T01:48:31.311734Z",
     "shell.execute_reply": "2025-04-04T01:48:31.311133Z",
     "shell.execute_reply.started": "2025-04-04T01:48:30.327781Z"
    }
   },
   "outputs": [
    {
     "name": "stdout",
     "output_type": "stream",
     "text": [
      "sagemaker.config INFO - Applied value from config key = SageMaker.PythonSDK.Modules.Session.DefaultS3Bucket\n",
      "sagemaker.config INFO - Applied value from config key = SageMaker.PythonSDK.Modules.Session.DefaultS3ObjectKeyPrefix\n",
      "sagemaker.config INFO - Applied value from config key = SageMaker.Model.VpcConfig\n"
     ]
    }
   ],
   "source": [
    "from sagemaker.model import Model\n",
    "from sagemaker.workflow.properties import PropertyFile\n",
    "\n",
    "model = PyTorchModel(\n",
    "    model_data=step_train.properties.ModelArtifacts.S3ModelArtifacts,\n",
    "    role=role,\n",
    "    entry_point=\"inference.py\",\n",
    "    source_dir=source_dir,\n",
    "    dependencies=[\"requirements.txt\"],\n",
    "    image_uri=pytorch_estimator.training_image_uri(),\n",
    "    sagemaker_session=PipelineSession()\n",
    ")\n",
    "\n",
    "# # Create model step\n",
    "# step_model_create = ModelStep(\n",
    "#     name=\"MyModelCreationStep\",\n",
    "#     step_args=model.create()\n",
    "# )\n",
    "\n",
    "# Define model metrics\n",
    "model_metrics = ModelMetrics(\n",
    "    model_statistics=MetricsSource(\n",
    "        s3_uri=\"{}/evaluation.json\".format(\n",
    "            step_eval.arguments[\"ProcessingOutputConfig\"][\"Outputs\"][0][\"S3Output\"][\"S3Uri\"]\n",
    "        ),\n",
    "        content_type=\"application/json\"\n",
    "    )\n",
    ")\n",
    "\n",
    "# Register model step\n",
    "register_model_step_args = model.register(\n",
    "    content_types=[\"image/jpeg\", \"image/png\", \"application/x-npy\"],\n",
    "    response_types=[\"image/jpeg\"],\n",
    "    inference_instances=[\"ml.g4dn.xlarge\"],\n",
    "    transform_instances=[\"ml.m5.large\"],\n",
    "    model_package_group_name=model_package_group_name,\n",
    "    model_metrics=model_metrics,\n",
    "    approval_status=\"PendingManualApproval\",\n",
    "    description=\"Fine-tuned Detectron2 Instance Segmentation Model for Cityscapes\"\n",
    ")"
   ]
  },
  {
   "cell_type": "markdown",
   "id": "225a82d9-7f6d-4668-9891-3d27d602bd6f",
   "metadata": {},
   "source": [
    "# Define Pipeline"
   ]
  },
  {
   "cell_type": "code",
   "execution_count": 14,
   "id": "a4857d37-f295-44eb-a422-9a2f8d1e1c86",
   "metadata": {
    "execution": {
     "iopub.execute_input": "2025-04-04T01:48:31.314409Z",
     "iopub.status.busy": "2025-04-04T01:48:31.314149Z",
     "iopub.status.idle": "2025-04-04T01:48:31.720818Z",
     "shell.execute_reply": "2025-04-04T01:48:31.720320Z",
     "shell.execute_reply.started": "2025-04-04T01:48:31.314388Z"
    }
   },
   "outputs": [
    {
     "name": "stdout",
     "output_type": "stream",
     "text": [
      "sagemaker.config INFO - Applied value from config key = SageMaker.PythonSDK.Modules.Session.DefaultS3Bucket\n",
      "sagemaker.config INFO - Applied value from config key = SageMaker.PythonSDK.Modules.Session.DefaultS3ObjectKeyPrefix\n"
     ]
    }
   ],
   "source": [
    "pipeline = Pipeline(\n",
    "    name=pipeline_name,\n",
    "    parameters=[\n",
    "        param_processing_instance_count,\n",
    "        param_processing_instance_type,\n",
    "        param_training_instance_count,\n",
    "        param_training_instance_type,\n",
    "        param_input_data_s3_uri,\n",
    "        param_eval_data_s3_uri,\n",
    "        param_model_approval_status,\n",
    "        param_d2_model_config_name,\n",
    "        param_d2_dataset_train_name,\n",
    "        param_d2_learning_rate,\n",
    "        param_d2_max_iter,\n",
    "        param_d2_ims_per_batch,\n",
    "        param_d2_num_workers,\n",
    "        param_d2_checkpoint_period,\n",
    "        param_d2_freeze_at,\n",
    "        param_d2_roi_batch_size_per_image,\n",
    "        param_d2_resume_training,\n",
    "    ],\n",
    "    steps=[step_train, step_eval],# step_register], # Define the sequence of steps\n",
    "    sagemaker_session=sagemaker.Session(boto_session=boto3.Session(region_name=region)),\n",
    ")"
   ]
  },
  {
   "cell_type": "markdown",
   "id": "74c0fa1e-8abe-4e23-b65d-04506093543e",
   "metadata": {},
   "source": [
    "# Describe Pipeline"
   ]
  },
  {
   "cell_type": "code",
   "execution_count": 15,
   "id": "7fe166c7-4f6e-4cb0-9eba-d821055bed71",
   "metadata": {
    "execution": {
     "iopub.execute_input": "2025-04-04T01:48:31.723375Z",
     "iopub.status.busy": "2025-04-04T01:48:31.723128Z",
     "iopub.status.idle": "2025-04-04T01:48:33.976373Z",
     "shell.execute_reply": "2025-04-04T01:48:33.975804Z",
     "shell.execute_reply.started": "2025-04-04T01:48:31.723357Z"
    }
   },
   "outputs": [
    {
     "name": "stdout",
     "output_type": "stream",
     "text": [
      "Pipeline Definition:\n",
      "{\"Version\": \"2020-12-01\", \"Metadata\": {}, \"Parameters\": [{\"Name\": \"ProcessingInstanceCount\", \"Type\": \"Integer\", \"DefaultValue\": 1}, {\"Name\": \"ProcessingInstanceType\", \"Type\": \"String\", \"DefaultValue\": \"ml.m5.xlarge\"}, {\"Name\": \"TrainingInstanceCount\", \"Type\": \"Integer\", \"DefaultValue\": 1}, {\"Name\": \"TrainingInstanceType\", \"Type\": \"String\", \"DefaultValue\": \"ml.g4dn.xlarge\"}, {\"Name\": \"InputDataS3Uri\", \"Type\": \"String\", \"DefaultValue\": \"s3://amazon-sagemaker-654654454011-ap-southeast-1-f5cec0caca51/dzd_aoermbikpd92e9/bciv16651x7di9/Dataset/\"}, {\"Name\": \"EvalDataS3Uri\", \"Type\": \"String\", \"DefaultValue\": \"\"}, {\"Name\": \"ModelApprovalStatus\", \"Type\": \"String\", \"DefaultValue\": \"PendingManualApproval\"}, {\"Name\": \"Detectron2ModelConfig\", \"Type\": \"String\", \"DefaultValue\": \"COCO-InstanceSegmentation/mask_rcnn_R_101_DC5_3x.yaml\"}, {\"Name\": \"Detectron2DatasetTrainName\", \"Type\": \"String\", \"DefaultValue\": \"cityspace_train\"}, {\"Name\": \"LearningRate\", \"Type\": \"Float\", \"DefaultValue\": 0.00025}, {\"Name\": \"MaxIter\", \"Type\": \"Integer\", \"DefaultValue\": 400}, {\"Name\": \"ImagesPerBatch\", \"Type\": \"Integer\", \"DefaultValue\": 2}, {\"Name\": \"NumWorkers\", \"Type\": \"Integer\", \"DefaultValue\": 2}, {\"Name\": \"CheckpointPeriod\", \"Type\": \"Integer\", \"DefaultValue\": 500}, {\"Name\": \"FreezeAt\", \"Type\": \"Integer\", \"DefaultValue\": 2}, {\"Name\": \"RoiBatchSizePerImage\", \"Type\": \"Integer\", \"DefaultValue\": 256}, {\"Name\": \"ResumeTraining\", \"Type\": \"Boolean\", \"DefaultValue\": true}], \"PipelineExperimentConfig\": {\"ExperimentName\": {\"Get\": \"Execution.PipelineName\"}, \"TrialName\": {\"Get\": \"Execution.PipelineExecutionId\"}}, \"Steps\": [{\"Name\": \"TrainDetectron2Model\", \"Type\": \"Training\", \"Arguments\": {\"AlgorithmSpecification\": {\"TrainingInputMode\": \"File\", \"TrainingImage\": \"763104351884.dkr.ecr.ap-southeast-1.amazonaws.com/pytorch-training:1.6.0-gpu-py3\", \"EnableSageMakerMetricsTimeSeries\": true}, \"OutputDataConfig\": {\"S3OutputPath\": \"s3://amazon-sagemaker-654654454011-ap-southeast-1-f5cec0caca51/dzd_aoermbikpd92e9/bciv16651x7di9/dev/\"}, \"StoppingCondition\": {\"MaxRuntimeInSeconds\": 86400}, \"ResourceConfig\": {\"VolumeSizeInGB\": 30, \"InstanceCount\": {\"Get\": \"Parameters.TrainingInstanceCount\"}, \"InstanceType\": {\"Get\": \"Parameters.TrainingInstanceType\"}}, \"RoleArn\": \"arn:aws:iam::654654454011:role/datazone_usr_role_bciv16651x7di9_516wj4355l338h\", \"InputDataConfig\": [{\"DataSource\": {\"S3DataSource\": {\"S3DataType\": \"S3Prefix\", \"S3Uri\": {\"Get\": \"Parameters.InputDataS3Uri\"}, \"S3DataDistributionType\": \"FullyReplicated\"}}, \"ContentType\": \"application/octet-stream\", \"ChannelName\": \"training\"}], \"HyperParameters\": {\"model-config-name\": {\"Get\": \"Parameters.Detectron2ModelConfig\"}, \"dataset-train-name\": {\"Get\": \"Parameters.Detectron2DatasetTrainName\"}, \"learning-rate\": {\"Std:Join\": {\"On\": \"\", \"Values\": [{\"Get\": \"Parameters.LearningRate\"}]}}, \"max-iter\": {\"Std:Join\": {\"On\": \"\", \"Values\": [{\"Get\": \"Parameters.MaxIter\"}]}}, \"ims-per-batch\": {\"Std:Join\": {\"On\": \"\", \"Values\": [{\"Get\": \"Parameters.ImagesPerBatch\"}]}}, \"num-workers\": {\"Std:Join\": {\"On\": \"\", \"Values\": [{\"Get\": \"Parameters.NumWorkers\"}]}}, \"checkpoint-period\": {\"Std:Join\": {\"On\": \"\", \"Values\": [{\"Get\": \"Parameters.CheckpointPeriod\"}]}}, \"freeze-at\": {\"Std:Join\": {\"On\": \"\", \"Values\": [{\"Get\": \"Parameters.FreezeAt\"}]}}, \"roi-batch-size-per-image\": {\"Std:Join\": {\"On\": \"\", \"Values\": [{\"Get\": \"Parameters.RoiBatchSizePerImage\"}]}}, \"resume\": {\"Std:Join\": {\"On\": \"\", \"Values\": [{\"Get\": \"Parameters.ResumeTraining\"}]}}, \"sagemaker_submit_directory\": \"\\\"s3://amazon-sagemaker-654654454011-ap-southeast-1-f5cec0caca51/dzd_aoermbikpd92e9/bciv16651x7di9/dev/TrainDetectron2Model-3758aa0013369712c0e1caf8126082ba/source/sourcedir.tar.gz\\\"\", \"sagemaker_program\": \"\\\"train.py\\\"\", \"sagemaker_container_log_level\": \"20\", \"sagemaker_region\": \"\\\"ap-southeast-1\\\"\"}, \"VpcConfig\": {\"Subnets\": [\"subnet-0a167eeb2026f79b4\", \"subnet-0b1f1d3eb3e4a8024\", \"subnet-0fae544b175783276\"], \"SecurityGroupIds\": [\"sg-01879c1a36059dbaf\"]}, \"DebugHookConfig\": {\"S3OutputPath\": \"s3://amazon-sagemaker-654654454011-ap-southeast-1-f5cec0caca51/dzd_aoermbikpd92e9/bciv16651x7di9/dev/\", \"CollectionConfigurations\": []}, \"ProfilerConfig\": {\"S3OutputPath\": \"s3://amazon-sagemaker-654654454011-ap-southeast-1-f5cec0caca51/dzd_aoermbikpd92e9/bciv16651x7di9/dev/\", \"DisableProfiler\": false}}, \"CacheConfig\": {\"Enabled\": true, \"ExpireAfter\": \"30d\"}}, {\"Name\": \"EvaluateModel\", \"Type\": \"Processing\", \"Arguments\": {\"ProcessingResources\": {\"ClusterConfig\": {\"InstanceType\": {\"Get\": \"Parameters.ProcessingInstanceType\"}, \"InstanceCount\": {\"Get\": \"Parameters.ProcessingInstanceCount\"}, \"VolumeSizeInGB\": 30}}, \"AppSpecification\": {\"ImageUri\": \"763104351884.dkr.ecr.ap-southeast-1.amazonaws.com/pytorch-training:1.6.0-cpu-py3\", \"ContainerArguments\": [\"--model-config-name\", {\"Get\": \"Parameters.Detectron2ModelConfig\"}, \"--dataset-train-name\", {\"Get\": \"Parameters.Detectron2DatasetTrainName\"}], \"ContainerEntrypoint\": [\"/bin/bash\", \"/opt/ml/processing/input/entrypoint/evaluate.py\"]}, \"RoleArn\": \"arn:aws:iam::654654454011:role/datazone_usr_role_bciv16651x7di9_516wj4355l338h\", \"ProcessingInputs\": [{\"InputName\": \"input-1\", \"AppManaged\": false, \"S3Input\": {\"S3Uri\": {\"Get\": \"Steps.TrainDetectron2Model.ModelArtifacts.S3ModelArtifacts\"}, \"LocalPath\": \"/opt/ml/processing/model\", \"S3DataType\": \"S3Prefix\", \"S3InputMode\": \"File\", \"S3DataDistributionType\": \"FullyReplicated\", \"S3CompressionType\": \"None\"}}, {\"InputName\": \"input_data\", \"AppManaged\": false, \"S3Input\": {\"S3Uri\": {\"Get\": \"Parameters.EvalDataS3Uri\"}, \"LocalPath\": \"/opt/ml/processing/input_data\", \"S3DataType\": \"S3Prefix\", \"S3InputMode\": \"File\", \"S3DataDistributionType\": \"FullyReplicated\", \"S3CompressionType\": \"None\"}}, {\"InputName\": \"entrypoint\", \"AppManaged\": false, \"S3Input\": {\"S3Uri\": \"s3://amazon-sagemaker-654654454011-ap-southeast-1-f5cec0caca51/dzd_aoermbikpd92e9/bciv16651x7di9/dev/EvaluateModel-8644b864b583890a181cca93e36a98b0/input/entrypoint/evaluate.py\", \"LocalPath\": \"/opt/ml/processing/input/entrypoint\", \"S3DataType\": \"S3Prefix\", \"S3InputMode\": \"File\", \"S3DataDistributionType\": \"FullyReplicated\", \"S3CompressionType\": \"None\"}}], \"ProcessingOutputConfig\": {\"Outputs\": [{\"OutputName\": \"evaluation\", \"AppManaged\": false, \"S3Output\": {\"S3Uri\": \"s3://amazon-sagemaker-654654454011-ap-southeast-1-f5cec0caca51/dzd_aoermbikpd92e9/bciv16651x7di9/evaluation\", \"LocalPath\": \"/opt/ml/processing/evaluation\", \"S3UploadMode\": \"EndOfJob\"}}]}, \"NetworkConfig\": {\"EnableNetworkIsolation\": false, \"VpcConfig\": {\"SecurityGroupIds\": [\"sg-01879c1a36059dbaf\"], \"Subnets\": [\"subnet-0a167eeb2026f79b4\", \"subnet-0b1f1d3eb3e4a8024\", \"subnet-0fae544b175783276\"]}}}, \"PropertyFiles\": [{\"PropertyFileName\": \"EvaluationReport\", \"OutputName\": \"evaluation\", \"FilePath\": \"evaluation.json\"}]}]}\n"
     ]
    }
   ],
   "source": [
    "print(\"Pipeline Definition:\")\n",
    "print(pipeline.definition()) # Print JSON definition"
   ]
  },
  {
   "cell_type": "code",
   "execution_count": 16,
   "id": "926d44c7-a84a-4675-934e-29cabb44537b",
   "metadata": {
    "execution": {
     "iopub.execute_input": "2025-04-04T01:48:33.977301Z",
     "iopub.status.busy": "2025-04-04T01:48:33.977035Z",
     "iopub.status.idle": "2025-04-04T01:48:33.980753Z",
     "shell.execute_reply": "2025-04-04T01:48:33.980219Z",
     "shell.execute_reply.started": "2025-04-04T01:48:33.977271Z"
    }
   },
   "outputs": [
    {
     "name": "stdout",
     "output_type": "stream",
     "text": [
      "Upserting pipeline Detectron2ModelPipeline-Pankaj...\n"
     ]
    }
   ],
   "source": [
    "print(f\"Upserting pipeline {pipeline_name}...\")"
   ]
  },
  {
   "cell_type": "code",
   "execution_count": 17,
   "id": "1a4dc2df-323e-47cd-848f-bd0700dcf71e",
   "metadata": {
    "execution": {
     "iopub.execute_input": "2025-04-04T01:48:33.981599Z",
     "iopub.status.busy": "2025-04-04T01:48:33.981330Z",
     "iopub.status.idle": "2025-04-04T01:48:38.657609Z",
     "shell.execute_reply": "2025-04-04T01:48:38.657013Z",
     "shell.execute_reply.started": "2025-04-04T01:48:33.981580Z"
    }
   },
   "outputs": [
    {
     "name": "stdout",
     "output_type": "stream",
     "text": [
      "Pipeline upsert complete.\n"
     ]
    }
   ],
   "source": [
    "pipeline.upsert(\n",
    "    role_arn=role,\n",
    "    description=\"Detectron2 Fine-tuning Pipeline\",\n",
    ")\n",
    "print(\"Pipeline upsert complete.\")"
   ]
  },
  {
   "cell_type": "code",
   "execution_count": 18,
   "id": "6a4d7be3-05d2-4754-9478-4dd17bde12f2",
   "metadata": {
    "execution": {
     "iopub.execute_input": "2025-04-04T01:48:38.658916Z",
     "iopub.status.busy": "2025-04-04T01:48:38.658394Z",
     "iopub.status.idle": "2025-04-04T01:48:38.827110Z",
     "shell.execute_reply": "2025-04-04T01:48:38.826583Z",
     "shell.execute_reply.started": "2025-04-04T01:48:38.658894Z"
    }
   },
   "outputs": [],
   "source": [
    "# Example of how to start an execution\n",
    "execution = pipeline.start()"
   ]
  }
 ],
 "metadata": {
  "kernelspec": {
   "display_name": "Python 3 (ipykernel)",
   "language": "python",
   "name": "python3"
  },
  "language_info": {
   "codemirror_mode": {
    "name": "ipython",
    "version": 3
   },
   "file_extension": ".py",
   "mimetype": "text/x-python",
   "name": "python",
   "nbconvert_exporter": "python",
   "pygments_lexer": "ipython3",
   "version": "3.12.9"
  }
 },
 "nbformat": 4,
 "nbformat_minor": 5
}
