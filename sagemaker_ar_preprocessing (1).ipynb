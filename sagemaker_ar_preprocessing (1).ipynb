{
 "cells": [
  {
   "cell_type": "markdown",
   "metadata": {},
   "source": [
    "# AR Dataset Preprocessing Pipeline - SageMaker Studio Execution\n",
    "Run this notebook in SageMaker Studio"
   ]
  },
  {
   "cell_type": "code",
   "execution_count": 1,
   "metadata": {
    "execution": {
     "iopub.execute_input": "2025-10-10T07:12:41.022778Z",
     "iopub.status.busy": "2025-10-10T07:12:41.022572Z",
     "iopub.status.idle": "2025-10-10T07:12:43.255644Z",
     "shell.execute_reply": "2025-10-10T07:12:43.254682Z",
     "shell.execute_reply.started": "2025-10-10T07:12:41.022755Z"
    }
   },
   "outputs": [
    {
     "name": "stdout",
     "output_type": "stream",
     "text": [
      "sagemaker.config INFO - Fetched defaults config from location: /etc/xdg/sagemaker/config.yaml\n",
      "sagemaker.config INFO - Not applying SDK defaults from location: /home/sagemaker-user/.config/sagemaker/config.yaml\n",
      "sagemaker.config INFO - Applied value from config key = SageMaker.PythonSDK.Modules.Session.DefaultS3Bucket\n",
      "sagemaker.config INFO - Applied value from config key = SageMaker.PythonSDK.Modules.Session.DefaultS3ObjectKeyPrefix\n"
     ]
    }
   ],
   "source": [
    "import sagemaker\n",
    "import boto3\n",
    "import os\n",
    "from sagemaker.workflow.pipeline import Pipeline\n",
    "from sagemaker.workflow.steps import TrainingStep, ProcessingStep, CacheConfig\n",
    "from sagemaker.workflow.model_step import ModelStep\n",
    "from sagemaker.workflow.parameters import (\n",
    "    ParameterInteger,\n",
    "    ParameterString,\n",
    "    ParameterFloat,\n",
    "    ParameterBoolean\n",
    ")\n",
    "\n",
    "from sagemaker.workflow.pipeline_context import PipelineSession\n",
    "from sagemaker.pytorch import PyTorch, PyTorchModel\n",
    "from sagemaker.processing import FrameworkProcessor, ProcessingInput, ProcessingOutput\n",
    "from sagemaker.inputs import TrainingInput\n",
    "from sagemaker.workflow.properties import PropertyFile\n",
    "from sagemaker.model_metrics import MetricsSource, ModelMetrics\n",
    "from sagemaker.drift_check_baselines import DriftCheckBaselines\n",
    "\n",
    "from botocore.exceptions import ClientError"
   ]
  },
  {
   "cell_type": "code",
   "execution_count": 2,
   "metadata": {
    "execution": {
     "iopub.execute_input": "2025-10-10T07:12:43.260051Z",
     "iopub.status.busy": "2025-10-10T07:12:43.259799Z",
     "iopub.status.idle": "2025-10-10T07:12:44.844894Z",
     "shell.execute_reply": "2025-10-10T07:12:44.844113Z",
     "shell.execute_reply.started": "2025-10-10T07:12:43.260030Z"
    }
   },
   "outputs": [
    {
     "name": "stdout",
     "output_type": "stream",
     "text": [
      "sagemaker.config INFO - Applied value from config key = SageMaker.PythonSDK.Modules.Session.DefaultS3Bucket\n",
      "sagemaker.config INFO - Applied value from config key = SageMaker.PythonSDK.Modules.Session.DefaultS3ObjectKeyPrefix\n",
      "sagemaker.config INFO - Applied value from config key = SageMaker.PythonSDK.Modules.Session.DefaultS3Bucket\n",
      "sagemaker.config INFO - Applied value from config key = SageMaker.PythonSDK.Modules.Session.DefaultS3ObjectKeyPrefix\n",
      "Dataset uploaded to: s3://amazon-sagemaker-036348883246-ap-southeast-1-e4202aa55412/dzd_4okzm1s1vw7yzl/65zfxlhn9ocbdt/shared/Dataset/AR_Train/\n"
     ]
    }
   ],
   "source": [
    "# # Upload local dataset to S3\n",
    "import boto3\n",
    "import os\n",
    "import sagemaker\n",
    "\n",
    "# s3 = boto3.client('s3')\n",
    "local_dataset_path = 'shared/Dataset/AR_Train'\n",
    "s3_dataset_prefix = 'ar-dataset'\n",
    "sagemaker_session = sagemaker.Session()\n",
    "bucket = sagemaker_session.default_bucket()\n",
    "project_prefix = sagemaker_session.default_bucket_prefix\n",
    "role = sagemaker.get_execution_role()\n",
    "\n",
    "# def upload_directory_to_s3(local_directory, bucket, s3_prefix):\n",
    "#     for root, dirs, files in os.walk(local_directory):\n",
    "#         for file in files:\n",
    "#             local_path = os.path.join(root, file)\n",
    "#             relative_path = os.path.relpath(local_path, local_directory)\n",
    "#             s3_path = os.path.join(s3_prefix, relative_path).replace('\\\\', '/')\n",
    "            \n",
    "#             print(f\"Uploading {local_path} to s3://{bucket}/{s3_path}\")\n",
    "#             s3.upload_file(local_path, bucket, s3_path)\n",
    "\n",
    "# # Upload the dataset\n",
    "# print(\"Uploading dataset to S3...\")\n",
    "# upload_directory_to_s3(local_dataset_path, bucket, s3_dataset_prefix)\n",
    "# print(\"Upload completed!\")\n",
    "\n",
    "# Update your S3 URI\n",
    "SHARE_LOC = f\"s3://{bucket}/{\"/\".join(project_prefix.split('/')[:-1])}/shared\"\n",
    "\n",
    "INPUT_S3_URI = f\"s3://{bucket}/{\"/\".join(project_prefix.split('/')[:-1])}/{local_dataset_path}/\"\n",
    "print(f\"Dataset uploaded to: {INPUT_S3_URI}\")"
   ]
  },
  {
   "cell_type": "code",
   "execution_count": 3,
   "metadata": {
    "execution": {
     "iopub.execute_input": "2025-10-10T07:12:44.848419Z",
     "iopub.status.busy": "2025-10-10T07:12:44.848093Z",
     "iopub.status.idle": "2025-10-10T07:12:46.168634Z",
     "shell.execute_reply": "2025-10-10T07:12:46.167721Z",
     "shell.execute_reply.started": "2025-10-10T07:12:44.848386Z"
    }
   },
   "outputs": [
    {
     "name": "stdout",
     "output_type": "stream",
     "text": [
      "sagemaker.config INFO - Applied value from config key = SageMaker.PythonSDK.Modules.Session.DefaultS3Bucket\n",
      "sagemaker.config INFO - Applied value from config key = SageMaker.PythonSDK.Modules.Session.DefaultS3ObjectKeyPrefix\n",
      "sagemaker.config INFO - Applied value from config key = SageMaker.PythonSDK.Modules.Session.DefaultS3Bucket\n",
      "sagemaker.config INFO - Applied value from config key = SageMaker.PythonSDK.Modules.Session.DefaultS3ObjectKeyPrefix\n",
      "SageMaker role: arn:aws:iam::036348883246:role/datazone_usr_role_65zfxlhn9ocbdt_cum5fqsu6crj8h\n",
      "Default bucket: amazon-sagemaker-036348883246-ap-southeast-1-e4202aa55412\n",
      "Region: ap-southeast-1\n"
     ]
    }
   ],
   "source": [
    "import boto3\n",
    "import sagemaker\n",
    "from sagemaker.sklearn.processing import SKLearnProcessor\n",
    "from sagemaker.processing import ProcessingInput, ProcessingOutput\n",
    "from sagemaker.workflow.pipeline import Pipeline\n",
    "from sagemaker.workflow.steps import ProcessingStep\n",
    "from sagemaker.workflow.parameters import ParameterString, ParameterFloat, ParameterInteger\n",
    "from sagemaker.workflow.pipeline_context import LocalPipelineSession\n",
    "import os\n",
    "\n",
    "# Initialize SageMaker session\n",
    "sagemaker_session = PipelineSession()\n",
    "role = sagemaker.get_execution_role()\n",
    "region = sagemaker_session.boto_region_name\n",
    "bucket = sagemaker_session.default_bucket()\n",
    "\n",
    "print(f\"SageMaker role: {role}\")\n",
    "print(f\"Default bucket: {bucket}\")\n",
    "print(f\"Region: {region}\")"
   ]
  },
  {
   "cell_type": "code",
   "execution_count": 4,
   "metadata": {
    "execution": {
     "iopub.execute_input": "2025-10-10T07:12:46.172176Z",
     "iopub.status.busy": "2025-10-10T07:12:46.171855Z",
     "iopub.status.idle": "2025-10-10T07:12:46.179687Z",
     "shell.execute_reply": "2025-10-10T07:12:46.178731Z",
     "shell.execute_reply.started": "2025-10-10T07:12:46.172143Z"
    }
   },
   "outputs": [
    {
     "name": "stdout",
     "output_type": "stream",
     "text": [
      "s3://amazon-sagemaker-036348883246-ap-southeast-1-e4202aa55412/dzd_4okzm1s1vw7yzl/65zfxlhn9ocbdt/shared/preprocessing_script.py\n"
     ]
    }
   ],
   "source": [
    "# # Upload the preprocessing script to S3\n",
    "preprocessing_script_path = f\"{SHARE_LOC}/preprocessing_script.py\"\n",
    "print(preprocessing_script_path)\n",
    "# # Write the preprocessing script\n",
    "# preprocessing_code = '''\n",
    "# #!/usr/bin/env python3\n",
    "# import argparse\n",
    "# import os\n",
    "# import cv2\n",
    "# import numpy as np\n",
    "# import pickle\n",
    "# from glob import glob\n",
    "# from sklearn.model_selection import train_test_split\n",
    "# import logging\n",
    "# import subprocess\n",
    "# import sys\n",
    "\n",
    "# # Install required packages\n",
    "# subprocess.check_call([sys.executable, \"-m\", \"pip\", \"install\", \"opencv-python\"])\n",
    "# subprocess.check_call([sys.executable, \"-m\", \"pip\", \"install\", \"scikit-learn\"])\n",
    "\n",
    "# # Set up logging\n",
    "# logging.basicConfig(level=logging.INFO)\n",
    "# logger = logging.getLogger(__name__)\n",
    "\n",
    "# def load_and_preprocess_data(data_dir, image_size=(224, 224), val_split=0.2):\n",
    "#     \\\"\\\"\\\"Load and preprocess AR dataset\\\"\\\"\\\"\n",
    "#     class_names = ['non-defect', 'defect']\n",
    "#     class_map = {name: i for i, name in enumerate(class_names)}\n",
    "    \n",
    "#     search_pattern = os.path.join(data_dir, 'AR_Train', '*', 'lighting_panel', '*.jpg')\n",
    "#     image_paths = glob(search_pattern)\n",
    "    \n",
    "#     if not image_paths:\n",
    "#         logger.warning(f\\\"No images found with pattern: {search_pattern}\\\")\n",
    "#         return (None, None), (None, None)\n",
    "    \n",
    "#     images = []\n",
    "#     labels = []\n",
    "    \n",
    "#     logger.info(f\\\"Found {len(image_paths)} images. Preprocessing...\\\")\n",
    "    \n",
    "#     for path in image_paths:\n",
    "#         try:\n",
    "#             img = cv2.imread(path)\n",
    "#             if img is None:\n",
    "#                 continue\n",
    "            \n",
    "#             img_resized = cv2.resize(img, (image_size[1], image_size[0]))\n",
    "#             img_normalized = img_resized.astype(np.float32) / 255.0\n",
    "            \n",
    "#             class_name = os.path.basename(os.path.dirname(os.path.dirname(path)))\n",
    "            \n",
    "#             if class_name in class_map:\n",
    "#                 images.append(img_normalized)\n",
    "#                 labels.append(class_map[class_name])\n",
    "                \n",
    "#         except Exception as e:\n",
    "#             logger.error(f\\\"Error processing {path}: {e}\\\")\n",
    "    \n",
    "#     if not images:\n",
    "#         return (None, None), (None, None)\n",
    "    \n",
    "#     X = np.array(images)\n",
    "#     y = np.array(labels)\n",
    "    \n",
    "#     X_train, X_val, y_train, y_val = train_test_split(\n",
    "#         X, y, test_size=val_split, random_state=42, stratify=y\n",
    "#     )\n",
    "    \n",
    "#     logger.info(f\\\"Training: {len(X_train)}, Validation: {len(X_val)}\\\")\n",
    "#     return (X_train, y_train), (X_val, y_val)\n",
    "\n",
    "# def save_data(data, output_path, filename):\n",
    "#     \\\"\\\"\\\"Save data using pickle\\\"\\\"\\\"\n",
    "#     os.makedirs(output_path, exist_ok=True)\n",
    "#     filepath = os.path.join(output_path, filename)\n",
    "#     with open(filepath, 'wb') as f:\n",
    "#         pickle.dump(data, f)\n",
    "#     logger.info(f\\\"Saved: {filepath}\\\")\n",
    "\n",
    "# if __name__ == \\\"__main__\\\":\n",
    "#     parser = argparse.ArgumentParser()\n",
    "#     parser.add_argument(\\\"--image-height\\\", type=int, default=224)\n",
    "#     parser.add_argument(\\\"--image-width\\\", type=int, default=224)\n",
    "#     parser.add_argument(\\\"--val-split\\\", type=float, default=0.2)\n",
    "#     args = parser.parse_args()\n",
    "    \n",
    "#     input_dir = \\\"/opt/ml/processing/input\\\"\n",
    "#     output_train_dir = \\\"/opt/ml/processing/output/train\\\"\n",
    "#     output_val_dir = \\\"/opt/ml/processing/output/val\\\"\n",
    "    \n",
    "#     (X_train, y_train), (X_val, y_val) = load_and_preprocess_data(\n",
    "#         data_dir=input_dir,\n",
    "#         image_size=(args.image_height, args.image_width),\n",
    "#         val_split=args.val_split\n",
    "#     )\n",
    "    \n",
    "#     if X_train is not None:\n",
    "#         save_data({'images': X_train, 'labels': y_train}, output_train_dir, 'train_data.pkl')\n",
    "#         save_data({'images': X_val, 'labels': y_val}, output_val_dir, 'val_data.pkl')\n",
    "#         save_data({\n",
    "#             'image_size': (args.image_height, args.image_width),\n",
    "#             'train_samples': len(X_train),\n",
    "#             'val_samples': len(X_val)\n",
    "#         }, output_train_dir, 'metadata.pkl')\n",
    "#         logger.info(\\\"Preprocessing completed successfully!\\\")\n",
    "#     else:\n",
    "#         logger.error(\\\"No data processed\\\")\n",
    "# '''\n",
    "\n",
    "# with open(preprocessing_script_path, 'w') as f:\n",
    "#     f.write(preprocessing_code)\n",
    "\n",
    "# print(f\"Created {preprocessing_script_path}\")"
   ]
  },
  {
   "cell_type": "code",
   "execution_count": 5,
   "metadata": {
    "execution": {
     "iopub.execute_input": "2025-10-10T07:12:46.183077Z",
     "iopub.status.busy": "2025-10-10T07:12:46.182549Z",
     "iopub.status.idle": "2025-10-10T07:12:46.188628Z",
     "shell.execute_reply": "2025-10-10T07:12:46.187830Z",
     "shell.execute_reply.started": "2025-10-10T07:12:46.183022Z"
    }
   },
   "outputs": [
    {
     "name": "stdout",
     "output_type": "stream",
     "text": [
      "Input S3 URI: Dataset\n",
      "Output S3 URI: s3://amazon-sagemaker-036348883246-ap-southeast-1-e4202aa55412/dzd_4okzm1s1vw7yzl/65zfxlhn9ocbdt/shared/output\n"
     ]
    }
   ],
   "source": [
    "# Configure your S3 paths\n",
    "# IMPORTANT: Update these paths with your actual S3 locations\n",
    "#https://hekynw8s7gjlmop.studio.ap-southeast-1.sagemaker.aws/jupyterlab/default/lab/tree/shared/Dataset\n",
    "INPUT_DATA_PATH = \"Dataset\"# Where your AR dataset is stored\n",
    "OUTPUT_S3_URI = f\"{SHARE_LOC}/output\"  # Where processed data will be saved\n",
    "\n",
    "print(f\"Input S3 URI: {INPUT_DATA_PATH}\")\n",
    "print(f\"Output S3 URI: {OUTPUT_S3_URI}\")"
   ]
  },
  {
   "cell_type": "code",
   "execution_count": 6,
   "metadata": {
    "execution": {
     "iopub.execute_input": "2025-10-10T07:12:46.189648Z",
     "iopub.status.busy": "2025-10-10T07:12:46.189411Z",
     "iopub.status.idle": "2025-10-10T07:12:47.110160Z",
     "shell.execute_reply": "2025-10-10T07:12:47.109366Z",
     "shell.execute_reply.started": "2025-10-10T07:12:46.189629Z"
    }
   },
   "outputs": [
    {
     "name": "stdout",
     "output_type": "stream",
     "text": [
      "sagemaker.config INFO - Applied value from config key = SageMaker.ProcessingJob.NetworkConfig.VpcConfig.Subnets\n",
      "sagemaker.config INFO - Applied value from config key = SageMaker.ProcessingJob.NetworkConfig.VpcConfig.SecurityGroupIds\n",
      "Pipeline created successfully!\n"
     ]
    }
   ],
   "source": [
    "# Create the pipeline\n",
    "from sagemaker.workflow.functions import Join\n",
    "\n",
    "# Parameters\n",
    "input_data_path = ParameterString(name=\"InputDataPath\", default_value=INPUT_S3_URI)\n",
    "output_data_uri = ParameterString(name=\"OutputDataUri\", default_value=OUTPUT_S3_URI)\n",
    "image_size_height = ParameterInteger(name=\"ImageSizeHeight\", default_value=224)\n",
    "image_size_width = ParameterInteger(name=\"ImageSizeWidth\", default_value=224)\n",
    "val_split = ParameterFloat(name=\"ValidationSplit\", default_value=0.2)\n",
    "    \n",
    "# SKLearn processor\n",
    "sklearn_processor = SKLearnProcessor(\n",
    "    framework_version=\"1.2-1\",\n",
    "    role=role,\n",
    "    instance_type=\"ml.t3.medium\",\n",
    "    instance_count=1,\n",
    "    base_job_name=\"ar-preprocessing\",\n",
    "    sagemaker_session=sagemaker_session\n",
    ")\n",
    "    \n",
    "# Processing step\n",
    "processing_step = ProcessingStep(\n",
    "    name=\"ARDataPreprocessing\",\n",
    "    processor=sklearn_processor,\n",
    "    inputs=[\n",
    "        ProcessingInput(\n",
    "            source=\"Dataset\",\n",
    "            destination=\"/opt/ml/processing/input\",\n",
    "            input_name=\"local_data\"\n",
    "        )\n",
    "    ],\n",
    "    outputs=[\n",
    "        ProcessingOutput(\n",
    "            output_name=\"train_data\",\n",
    "            source=\"/opt/ml/processing/output/train\",\n",
    "            destination=Join(on=\"/\", values=[output_data_uri, \"train\"])\n",
    "        ),\n",
    "          ProcessingOutput(\n",
    "              output_name=\"val_data\",\n",
    "              source=\"/opt/ml/processing/output/val\", \n",
    "              destination=Join(on=\"/\", values=[output_data_uri, \"val\"])\n",
    "          )\n",
    "    ],\n",
    "    code=preprocessing_script_path,\n",
    "    job_arguments=[\n",
    "        \"--image-height\", image_size_height,\n",
    "        \"--image-width\", image_size_width,\n",
    "        \"--val-split\", val_split\n",
    "    ]\n",
    ")\n",
    "# Create pipeline\n",
    "pipeline = Pipeline(\n",
    "    name=\"ar-preprocessing-pipeline\",\n",
    "    parameters=[\n",
    "        input_data_path, output_data_uri,\n",
    "        image_size_height, image_size_width, val_split\n",
    "    ],\n",
    "    steps=[processing_step],\n",
    "    sagemaker_session=sagemaker_session\n",
    ")\n",
    "# return pipeline\n",
    "\n",
    "# pipeline = create_pipeline()\n",
    "print(\"Pipeline created successfully!\")"
   ]
  },
  {
   "cell_type": "code",
   "execution_count": 7,
   "metadata": {
    "execution": {
     "iopub.execute_input": "2025-10-10T07:12:47.111237Z",
     "iopub.status.busy": "2025-10-10T07:12:47.110990Z",
     "iopub.status.idle": "2025-10-10T08:08:05.353821Z",
     "shell.execute_reply": "2025-10-10T08:08:05.352276Z",
     "shell.execute_reply.started": "2025-10-10T07:12:47.111216Z"
    }
   },
   "outputs": [
    {
     "name": "stdout",
     "output_type": "stream",
     "text": [
      "Pipeline Definition:\n",
      "{\"Version\": \"2020-12-01\", \"Metadata\": {}, \"Parameters\": [{\"Name\": \"InputDataPath\", \"Type\": \"String\", \"DefaultValue\": \"s3://amazon-sagemaker-036348883246-ap-southeast-1-e4202aa55412/dzd_4okzm1s1vw7yzl/65zfxlhn9ocbdt/shared/Dataset/AR_Train/\"}, {\"Name\": \"OutputDataUri\", \"Type\": \"String\", \"DefaultValue\": \"s3://amazon-sagemaker-036348883246-ap-southeast-1-e4202aa55412/dzd_4okzm1s1vw7yzl/65zfxlhn9ocbdt/shared/output\"}, {\"Name\": \"ImageSizeHeight\", \"Type\": \"Integer\", \"DefaultValue\": 224}, {\"Name\": \"ImageSizeWidth\", \"Type\": \"Integer\", \"DefaultValue\": 224}, {\"Name\": \"ValidationSplit\", \"Type\": \"Float\", \"DefaultValue\": 0.2}], \"PipelineExperimentConfig\": {\"ExperimentName\": {\"Get\": \"Execution.PipelineName\"}, \"TrialName\": {\"Get\": \"Execution.PipelineExecutionId\"}}, \"Steps\": [{\"Name\": \"ARDataPreprocessing\", \"Type\": \"Processing\", \"Arguments\": {\"ProcessingResources\": {\"ClusterConfig\": {\"InstanceType\": \"ml.t3.medium\", \"InstanceCount\": 1, \"VolumeSizeInGB\": 30}}, \"AppSpecification\": {\"ImageUri\": \"121021644041.dkr.ecr.ap-southeast-1.amazonaws.com/sagemaker-scikit-learn:1.2-1-cpu-py3\", \"ContainerArguments\": [\"--image-height\", {\"Get\": \"Parameters.ImageSizeHeight\"}, \"--image-width\", {\"Get\": \"Parameters.ImageSizeWidth\"}, \"--val-split\", {\"Get\": \"Parameters.ValidationSplit\"}], \"ContainerEntrypoint\": [\"python3\", \"/opt/ml/processing/input/code/preprocessing_script.py\"]}, \"RoleArn\": \"arn:aws:iam::036348883246:role/datazone_usr_role_65zfxlhn9ocbdt_cum5fqsu6crj8h\", \"ProcessingInputs\": [{\"InputName\": \"local_data\", \"AppManaged\": false, \"S3Input\": {\"S3Uri\": \"s3://amazon-sagemaker-036348883246-ap-southeast-1-e4202aa55412/dzd_4okzm1s1vw7yzl/65zfxlhn9ocbdt/dev/ar-preprocessing-pipeline/ARDataPreprocessing/input/local_data\", \"LocalPath\": \"/opt/ml/processing/input\", \"S3DataType\": \"S3Prefix\", \"S3InputMode\": \"File\", \"S3DataDistributionType\": \"FullyReplicated\", \"S3CompressionType\": \"None\"}}, {\"InputName\": \"code\", \"AppManaged\": false, \"S3Input\": {\"S3Uri\": \"s3://amazon-sagemaker-036348883246-ap-southeast-1-e4202aa55412/dzd_4okzm1s1vw7yzl/65zfxlhn9ocbdt/shared/preprocessing_script.py\", \"LocalPath\": \"/opt/ml/processing/input/code\", \"S3DataType\": \"S3Prefix\", \"S3InputMode\": \"File\", \"S3DataDistributionType\": \"FullyReplicated\", \"S3CompressionType\": \"None\"}}], \"ProcessingOutputConfig\": {\"Outputs\": [{\"OutputName\": \"train_data\", \"AppManaged\": false, \"S3Output\": {\"S3Uri\": {\"Std:Join\": {\"On\": \"/\", \"Values\": [{\"Get\": \"Parameters.OutputDataUri\"}, \"train\"]}}, \"LocalPath\": \"/opt/ml/processing/output/train\", \"S3UploadMode\": \"EndOfJob\"}}, {\"OutputName\": \"val_data\", \"AppManaged\": false, \"S3Output\": {\"S3Uri\": {\"Std:Join\": {\"On\": \"/\", \"Values\": [{\"Get\": \"Parameters.OutputDataUri\"}, \"val\"]}}, \"LocalPath\": \"/opt/ml/processing/output/val\", \"S3UploadMode\": \"EndOfJob\"}}]}, \"NetworkConfig\": {\"EnableNetworkIsolation\": false, \"VpcConfig\": {\"SecurityGroupIds\": [\"sg-072d74dd39933adb2\"], \"Subnets\": [\"subnet-0c5c6a433e33d663a\", \"subnet-0fcfd985400b9452c\", \"subnet-035a2dc1636fb32fb\"]}}}}]}\n",
      "hello\n"
     ]
    },
    {
     "data": {
      "text/html": [
       "<pre style=\"white-space:pre;overflow-x:auto;line-height:normal;font-family:Menlo,'DejaVu Sans Mono',consolas,'Courier New',monospace\"><span style=\"color: #ff0000; text-decoration-color: #ff0000\">╭─────────────────────────────── </span><span style=\"color: #ff0000; text-decoration-color: #ff0000; font-weight: bold\">Traceback </span><span style=\"color: #ff7f7f; text-decoration-color: #ff7f7f; font-weight: bold\">(most recent call last)</span><span style=\"color: #ff0000; text-decoration-color: #ff0000\"> ────────────────────────────────╮</span>\n",
       "<span style=\"color: #ff0000; text-decoration-color: #ff0000\">│</span> in &lt;module&gt;:5                                                                                    <span style=\"color: #ff0000; text-decoration-color: #ff0000\">│</span>\n",
       "<span style=\"color: #ff0000; text-decoration-color: #ff0000\">│</span>                                                                                                  <span style=\"color: #ff0000; text-decoration-color: #ff0000\">│</span>\n",
       "<span style=\"color: #ff0000; text-decoration-color: #ff0000\">│</span>   <span style=\"color: #7f7f7f; text-decoration-color: #7f7f7f\"> 2 </span><span style=\"color: #00ffff; text-decoration-color: #00ffff\">print</span>(pipeline.definition())                                                                <span style=\"color: #ff0000; text-decoration-color: #ff0000\">│</span>\n",
       "<span style=\"color: #ff0000; text-decoration-color: #ff0000\">│</span>   <span style=\"color: #7f7f7f; text-decoration-color: #7f7f7f\"> 3 </span><span style=\"color: #00ffff; text-decoration-color: #00ffff\">print</span>(<span style=\"color: #808000; text-decoration-color: #808000\">\"hello\"</span>)<span style=\"color: #7f7f7f; text-decoration-color: #7f7f7f\"># Print JSON definition</span>                                                       <span style=\"color: #ff0000; text-decoration-color: #ff0000\">│</span>\n",
       "<span style=\"color: #ff0000; text-decoration-color: #ff0000\">│</span>   <span style=\"color: #7f7f7f; text-decoration-color: #7f7f7f\"> 4 </span>                                                                                            <span style=\"color: #ff0000; text-decoration-color: #ff0000\">│</span>\n",
       "<span style=\"color: #ff0000; text-decoration-color: #ff0000\">│</span> <span style=\"color: #800000; text-decoration-color: #800000\">❱ </span> 5 <span style=\"font-weight: bold; text-decoration: underline\">pipeline.upsert(</span>                                                                            <span style=\"color: #ff0000; text-decoration-color: #ff0000\">│</span>\n",
       "<span style=\"color: #ff0000; text-decoration-color: #ff0000\">│</span>   <span style=\"color: #7f7f7f; text-decoration-color: #7f7f7f\"> 6 </span><span style=\"color: #7f7f7f; text-decoration-color: #7f7f7f\">│   </span><span style=\"font-weight: bold; text-decoration: underline\">role_arn=role,</span>                                                                          <span style=\"color: #ff0000; text-decoration-color: #ff0000\">│</span>\n",
       "<span style=\"color: #ff0000; text-decoration-color: #ff0000\">│</span>   <span style=\"color: #7f7f7f; text-decoration-color: #7f7f7f\"> 7 </span><span style=\"color: #7f7f7f; text-decoration-color: #7f7f7f\">│   </span><span style=\"font-weight: bold; text-decoration: underline\">description=</span><span style=\"color: #808000; text-decoration-color: #808000; font-weight: bold; text-decoration: underline\">\"AR Defect Detection Pipeline using ResNet50-SE\"</span><span style=\"font-weight: bold; text-decoration: underline\">,</span>                           <span style=\"color: #ff0000; text-decoration-color: #ff0000\">│</span>\n",
       "<span style=\"color: #ff0000; text-decoration-color: #ff0000\">│</span>   <span style=\"color: #7f7f7f; text-decoration-color: #7f7f7f\"> 8 </span><span style=\"font-weight: bold; text-decoration: underline\">)</span>                                                                                           <span style=\"color: #ff0000; text-decoration-color: #ff0000\">│</span>\n",
       "<span style=\"color: #ff0000; text-decoration-color: #ff0000\">│</span>                                                                                                  <span style=\"color: #ff0000; text-decoration-color: #ff0000\">│</span>\n",
       "<span style=\"color: #ff0000; text-decoration-color: #ff0000\">│</span> <span style=\"color: #7f7f7f; text-decoration-color: #7f7f7f\">/opt/conda/lib/python3.12/site-packages/sagemaker/workflow/</span><span style=\"font-weight: bold\">pipeline.py</span>:297 in upsert             <span style=\"color: #ff0000; text-decoration-color: #ff0000\">│</span>\n",
       "<span style=\"color: #ff0000; text-decoration-color: #ff0000\">│</span>                                                                                                  <span style=\"color: #ff0000; text-decoration-color: #ff0000\">│</span>\n",
       "<span style=\"color: #ff0000; text-decoration-color: #ff0000\">│</span>   <span style=\"color: #7f7f7f; text-decoration-color: #7f7f7f\"> 294 </span><span style=\"color: #7f7f7f; text-decoration-color: #7f7f7f\">│   │   │   </span>error_code = ce.response[<span style=\"color: #808000; text-decoration-color: #808000\">\"Error\"</span>][<span style=\"color: #808000; text-decoration-color: #808000\">\"Code\"</span>]                                     <span style=\"color: #ff0000; text-decoration-color: #ff0000\">│</span>\n",
       "<span style=\"color: #ff0000; text-decoration-color: #ff0000\">│</span>   <span style=\"color: #7f7f7f; text-decoration-color: #7f7f7f\"> 295 </span><span style=\"color: #7f7f7f; text-decoration-color: #7f7f7f\">│   │   │   </span>error_message = ce.response[<span style=\"color: #808000; text-decoration-color: #808000\">\"Error\"</span>][<span style=\"color: #808000; text-decoration-color: #808000\">\"Message\"</span>]                               <span style=\"color: #ff0000; text-decoration-color: #ff0000\">│</span>\n",
       "<span style=\"color: #ff0000; text-decoration-color: #ff0000\">│</span>   <span style=\"color: #7f7f7f; text-decoration-color: #7f7f7f\"> 296 </span><span style=\"color: #7f7f7f; text-decoration-color: #7f7f7f\">│   │   │   </span><span style=\"color: #0000ff; text-decoration-color: #0000ff\">if</span> <span style=\"color: #ff00ff; text-decoration-color: #ff00ff\">not</span> (error_code == <span style=\"color: #808000; text-decoration-color: #808000\">\"ValidationException\"</span> <span style=\"color: #ff00ff; text-decoration-color: #ff00ff\">and</span> <span style=\"color: #808000; text-decoration-color: #808000\">\"already exists\"</span> <span style=\"color: #ff00ff; text-decoration-color: #ff00ff\">in</span> error_me  <span style=\"color: #ff0000; text-decoration-color: #ff0000\">│</span>\n",
       "<span style=\"color: #ff0000; text-decoration-color: #ff0000\">│</span> <span style=\"color: #800000; text-decoration-color: #800000\">❱ </span> 297 <span style=\"color: #7f7f7f; text-decoration-color: #7f7f7f\">│   │   │   │   </span><span style=\"color: #0000ff; text-decoration-color: #0000ff; font-weight: bold; text-decoration: underline\">raise</span><span style=\"font-weight: bold; text-decoration: underline\"> ce</span>                                                                  <span style=\"color: #ff0000; text-decoration-color: #ff0000\">│</span>\n",
       "<span style=\"color: #ff0000; text-decoration-color: #ff0000\">│</span>   <span style=\"color: #7f7f7f; text-decoration-color: #7f7f7f\"> 298 </span><span style=\"color: #7f7f7f; text-decoration-color: #7f7f7f\">│   │   │   </span><span style=\"color: #7f7f7f; text-decoration-color: #7f7f7f\"># already exists</span>                                                              <span style=\"color: #ff0000; text-decoration-color: #ff0000\">│</span>\n",
       "<span style=\"color: #ff0000; text-decoration-color: #ff0000\">│</span>   <span style=\"color: #7f7f7f; text-decoration-color: #7f7f7f\"> 299 </span><span style=\"color: #7f7f7f; text-decoration-color: #7f7f7f\">│   │   │   </span>response = <span style=\"color: #00ffff; text-decoration-color: #00ffff\">self</span>.update(role_arn, description, parallelism_config=parallelism  <span style=\"color: #ff0000; text-decoration-color: #ff0000\">│</span>\n",
       "<span style=\"color: #ff0000; text-decoration-color: #ff0000\">│</span>   <span style=\"color: #7f7f7f; text-decoration-color: #7f7f7f\"> 300 </span><span style=\"color: #7f7f7f; text-decoration-color: #7f7f7f\">│   │   │   </span><span style=\"color: #7f7f7f; text-decoration-color: #7f7f7f\"># add new tags to existing resource</span>                                           <span style=\"color: #ff0000; text-decoration-color: #ff0000\">│</span>\n",
       "<span style=\"color: #ff0000; text-decoration-color: #ff0000\">│</span>                                                                                                  <span style=\"color: #ff0000; text-decoration-color: #ff0000\">│</span>\n",
       "<span style=\"color: #ff0000; text-decoration-color: #ff0000\">│</span> <span style=\"color: #7f7f7f; text-decoration-color: #7f7f7f\">/opt/conda/lib/python3.12/site-packages/sagemaker/workflow/</span><span style=\"font-weight: bold\">pipeline.py</span>:292 in upsert             <span style=\"color: #ff0000; text-decoration-color: #ff0000\">│</span>\n",
       "<span style=\"color: #ff0000; text-decoration-color: #ff0000\">│</span>                                                                                                  <span style=\"color: #ff0000; text-decoration-color: #ff0000\">│</span>\n",
       "<span style=\"color: #ff0000; text-decoration-color: #ff0000\">│</span>   <span style=\"color: #7f7f7f; text-decoration-color: #7f7f7f\"> 289 </span><span style=\"color: #7f7f7f; text-decoration-color: #7f7f7f\">│   │   │   </span><span style=\"color: #7f7f7f; text-decoration-color: #7f7f7f\"># after fetching the config.</span>                                                  <span style=\"color: #ff0000; text-decoration-color: #ff0000\">│</span>\n",
       "<span style=\"color: #ff0000; text-decoration-color: #ff0000\">│</span>   <span style=\"color: #7f7f7f; text-decoration-color: #7f7f7f\"> 290 </span><span style=\"color: #7f7f7f; text-decoration-color: #7f7f7f\">│   │   │   </span><span style=\"color: #0000ff; text-decoration-color: #0000ff\">raise</span> <span style=\"color: #00ffff; text-decoration-color: #00ffff\">ValueError</span>(<span style=\"color: #808000; text-decoration-color: #808000\">\"An AWS IAM role is required to create or update a Pipeline</span>  <span style=\"color: #ff0000; text-decoration-color: #ff0000\">│</span>\n",
       "<span style=\"color: #ff0000; text-decoration-color: #ff0000\">│</span>   <span style=\"color: #7f7f7f; text-decoration-color: #7f7f7f\"> 291 </span><span style=\"color: #7f7f7f; text-decoration-color: #7f7f7f\">│   │   </span><span style=\"color: #0000ff; text-decoration-color: #0000ff\">try</span>:                                                                              <span style=\"color: #ff0000; text-decoration-color: #ff0000\">│</span>\n",
       "<span style=\"color: #ff0000; text-decoration-color: #ff0000\">│</span> <span style=\"color: #800000; text-decoration-color: #800000\">❱ </span> 292 <span style=\"color: #7f7f7f; text-decoration-color: #7f7f7f\">│   │   │   </span>response = <span style=\"color: #00ffff; text-decoration-color: #00ffff\">self</span>.create(role_arn, description, tags, parallelism_config)       <span style=\"color: #ff0000; text-decoration-color: #ff0000\">│</span>\n",
       "<span style=\"color: #ff0000; text-decoration-color: #ff0000\">│</span>   <span style=\"color: #7f7f7f; text-decoration-color: #7f7f7f\"> 293 </span><span style=\"color: #7f7f7f; text-decoration-color: #7f7f7f\">│   │   </span><span style=\"color: #0000ff; text-decoration-color: #0000ff\">except</span> ClientError <span style=\"color: #0000ff; text-decoration-color: #0000ff\">as</span> ce:                                                         <span style=\"color: #ff0000; text-decoration-color: #ff0000\">│</span>\n",
       "<span style=\"color: #ff0000; text-decoration-color: #ff0000\">│</span>   <span style=\"color: #7f7f7f; text-decoration-color: #7f7f7f\"> 294 </span><span style=\"color: #7f7f7f; text-decoration-color: #7f7f7f\">│   │   │   </span>error_code = ce.response[<span style=\"color: #808000; text-decoration-color: #808000\">\"Error\"</span>][<span style=\"color: #808000; text-decoration-color: #808000\">\"Code\"</span>]                                     <span style=\"color: #ff0000; text-decoration-color: #ff0000\">│</span>\n",
       "<span style=\"color: #ff0000; text-decoration-color: #ff0000\">│</span>   <span style=\"color: #7f7f7f; text-decoration-color: #7f7f7f\"> 295 </span><span style=\"color: #7f7f7f; text-decoration-color: #7f7f7f\">│   │   │   </span>error_message = ce.response[<span style=\"color: #808000; text-decoration-color: #808000\">\"Error\"</span>][<span style=\"color: #808000; text-decoration-color: #808000\">\"Message\"</span>]                               <span style=\"color: #ff0000; text-decoration-color: #ff0000\">│</span>\n",
       "<span style=\"color: #ff0000; text-decoration-color: #ff0000\">│</span>                                                                                                  <span style=\"color: #ff0000; text-decoration-color: #ff0000\">│</span>\n",
       "<span style=\"color: #ff0000; text-decoration-color: #ff0000\">│</span> <span style=\"color: #7f7f7f; text-decoration-color: #7f7f7f\">/opt/conda/lib/python3.12/site-packages/sagemaker/workflow/</span><span style=\"font-weight: bold\">pipeline.py</span>:169 in create             <span style=\"color: #ff0000; text-decoration-color: #ff0000\">│</span>\n",
       "<span style=\"color: #ff0000; text-decoration-color: #ff0000\">│</span>                                                                                                  <span style=\"color: #ff0000; text-decoration-color: #ff0000\">│</span>\n",
       "<span style=\"color: #ff0000; text-decoration-color: #ff0000\">│</span>   <span style=\"color: #7f7f7f; text-decoration-color: #7f7f7f\"> 166 </span><span style=\"color: #7f7f7f; text-decoration-color: #7f7f7f\">│   │   │   </span>kwargs,                                                                       <span style=\"color: #ff0000; text-decoration-color: #ff0000\">│</span>\n",
       "<span style=\"color: #ff0000; text-decoration-color: #ff0000\">│</span>   <span style=\"color: #7f7f7f; text-decoration-color: #7f7f7f\"> 167 </span><span style=\"color: #7f7f7f; text-decoration-color: #7f7f7f\">│   │   │   </span>Tags=tags,                                                                    <span style=\"color: #ff0000; text-decoration-color: #ff0000\">│</span>\n",
       "<span style=\"color: #ff0000; text-decoration-color: #ff0000\">│</span>   <span style=\"color: #7f7f7f; text-decoration-color: #7f7f7f\"> 168 </span><span style=\"color: #7f7f7f; text-decoration-color: #7f7f7f\">│   │   </span>)                                                                                 <span style=\"color: #ff0000; text-decoration-color: #ff0000\">│</span>\n",
       "<span style=\"color: #ff0000; text-decoration-color: #ff0000\">│</span> <span style=\"color: #800000; text-decoration-color: #800000\">❱ </span> 169 <span style=\"color: #7f7f7f; text-decoration-color: #7f7f7f\">│   │   </span><span style=\"color: #0000ff; text-decoration-color: #0000ff\">return</span> <span style=\"color: #00ffff; text-decoration-color: #00ffff; font-weight: bold; text-decoration: underline\">self</span><span style=\"font-weight: bold; text-decoration: underline\">.sagemaker_session.sagemaker_client.create_pipeline(**kwargs)</span>          <span style=\"color: #ff0000; text-decoration-color: #ff0000\">│</span>\n",
       "<span style=\"color: #ff0000; text-decoration-color: #ff0000\">│</span>   <span style=\"color: #7f7f7f; text-decoration-color: #7f7f7f\"> 170 </span><span style=\"color: #7f7f7f; text-decoration-color: #7f7f7f\">│   </span>                                                                                      <span style=\"color: #ff0000; text-decoration-color: #ff0000\">│</span>\n",
       "<span style=\"color: #ff0000; text-decoration-color: #ff0000\">│</span>   <span style=\"color: #7f7f7f; text-decoration-color: #7f7f7f\"> 171 </span><span style=\"color: #7f7f7f; text-decoration-color: #7f7f7f\">│   </span><span style=\"color: #0000ff; text-decoration-color: #0000ff\">def</span><span style=\"color: #808080; text-decoration-color: #808080\"> </span><span style=\"color: #00ff00; text-decoration-color: #00ff00\">_create_args</span>(                                                                     <span style=\"color: #ff0000; text-decoration-color: #ff0000\">│</span>\n",
       "<span style=\"color: #ff0000; text-decoration-color: #ff0000\">│</span>   <span style=\"color: #7f7f7f; text-decoration-color: #7f7f7f\"> 172 </span><span style=\"color: #7f7f7f; text-decoration-color: #7f7f7f\">│   │   </span><span style=\"color: #00ffff; text-decoration-color: #00ffff\">self</span>, role_arn: <span style=\"color: #00ffff; text-decoration-color: #00ffff\">str</span>, description: <span style=\"color: #00ffff; text-decoration-color: #00ffff\">str</span>, parallelism_config: ParallelismConfigurat  <span style=\"color: #ff0000; text-decoration-color: #ff0000\">│</span>\n",
       "<span style=\"color: #ff0000; text-decoration-color: #ff0000\">│</span>                                                                                                  <span style=\"color: #ff0000; text-decoration-color: #ff0000\">│</span>\n",
       "<span style=\"color: #ff0000; text-decoration-color: #ff0000\">│</span> <span style=\"color: #7f7f7f; text-decoration-color: #7f7f7f\">/opt/conda/lib/python3.12/site-packages/botocore/</span><span style=\"font-weight: bold\">client.py</span>:569 in _api_call                      <span style=\"color: #ff0000; text-decoration-color: #ff0000\">│</span>\n",
       "<span style=\"color: #ff0000; text-decoration-color: #ff0000\">│</span>                                                                                                  <span style=\"color: #ff0000; text-decoration-color: #ff0000\">│</span>\n",
       "<span style=\"color: #ff0000; text-decoration-color: #ff0000\">│</span>   <span style=\"color: #7f7f7f; text-decoration-color: #7f7f7f\"> 566 </span><span style=\"color: #7f7f7f; text-decoration-color: #7f7f7f\">│   │   │   │   │   </span><span style=\"color: #808000; text-decoration-color: #808000\">f\"{</span>py_operation_name<span style=\"color: #808000; text-decoration-color: #808000\">}() only accepts keyword arguments.\"</span>              <span style=\"color: #ff0000; text-decoration-color: #ff0000\">│</span>\n",
       "<span style=\"color: #ff0000; text-decoration-color: #ff0000\">│</span>   <span style=\"color: #7f7f7f; text-decoration-color: #7f7f7f\"> 567 </span><span style=\"color: #7f7f7f; text-decoration-color: #7f7f7f\">│   │   │   │   </span>)                                                                         <span style=\"color: #ff0000; text-decoration-color: #ff0000\">│</span>\n",
       "<span style=\"color: #ff0000; text-decoration-color: #ff0000\">│</span>   <span style=\"color: #7f7f7f; text-decoration-color: #7f7f7f\"> 568 </span><span style=\"color: #7f7f7f; text-decoration-color: #7f7f7f\">│   │   │   </span><span style=\"color: #7f7f7f; text-decoration-color: #7f7f7f\"># The \"self\" in this scope is referring to the BaseClient.</span>                    <span style=\"color: #ff0000; text-decoration-color: #ff0000\">│</span>\n",
       "<span style=\"color: #ff0000; text-decoration-color: #ff0000\">│</span> <span style=\"color: #800000; text-decoration-color: #800000\">❱ </span> 569 <span style=\"color: #7f7f7f; text-decoration-color: #7f7f7f\">│   │   │   </span><span style=\"color: #0000ff; text-decoration-color: #0000ff\">return</span> <span style=\"color: #00ffff; text-decoration-color: #00ffff; font-weight: bold; text-decoration: underline\">self</span><span style=\"font-weight: bold; text-decoration: underline\">._make_api_call(operation_name, kwargs)</span>                            <span style=\"color: #ff0000; text-decoration-color: #ff0000\">│</span>\n",
       "<span style=\"color: #ff0000; text-decoration-color: #ff0000\">│</span>   <span style=\"color: #7f7f7f; text-decoration-color: #7f7f7f\"> 570 </span><span style=\"color: #7f7f7f; text-decoration-color: #7f7f7f\">│   │   </span>                                                                                  <span style=\"color: #ff0000; text-decoration-color: #ff0000\">│</span>\n",
       "<span style=\"color: #ff0000; text-decoration-color: #ff0000\">│</span>   <span style=\"color: #7f7f7f; text-decoration-color: #7f7f7f\"> 571 </span><span style=\"color: #7f7f7f; text-decoration-color: #7f7f7f\">│   │   </span>_api_call.<span style=\"color: #ff0000; text-decoration-color: #ff0000\">__name__</span> = <span style=\"color: #00ffff; text-decoration-color: #00ffff\">str</span>(py_operation_name)                                       <span style=\"color: #ff0000; text-decoration-color: #ff0000\">│</span>\n",
       "<span style=\"color: #ff0000; text-decoration-color: #ff0000\">│</span>   <span style=\"color: #7f7f7f; text-decoration-color: #7f7f7f\"> 572 </span>                                                                                          <span style=\"color: #ff0000; text-decoration-color: #ff0000\">│</span>\n",
       "<span style=\"color: #ff0000; text-decoration-color: #ff0000\">│</span>                                                                                                  <span style=\"color: #ff0000; text-decoration-color: #ff0000\">│</span>\n",
       "<span style=\"color: #ff0000; text-decoration-color: #ff0000\">│</span> <span style=\"color: #7f7f7f; text-decoration-color: #7f7f7f\">/opt/conda/lib/python3.12/site-packages/botocore/</span><span style=\"font-weight: bold\">client.py</span>:1023 in _make_api_call                <span style=\"color: #ff0000; text-decoration-color: #ff0000\">│</span>\n",
       "<span style=\"color: #ff0000; text-decoration-color: #ff0000\">│</span>                                                                                                  <span style=\"color: #ff0000; text-decoration-color: #ff0000\">│</span>\n",
       "<span style=\"color: #ff0000; text-decoration-color: #ff0000\">│</span>   <span style=\"color: #7f7f7f; text-decoration-color: #7f7f7f\">1020 </span><span style=\"color: #7f7f7f; text-decoration-color: #7f7f7f\">│   │   │   │   </span><span style=\"color: #808000; text-decoration-color: #808000\">\"Code\"</span>                                                                    <span style=\"color: #ff0000; text-decoration-color: #ff0000\">│</span>\n",
       "<span style=\"color: #ff0000; text-decoration-color: #ff0000\">│</span>   <span style=\"color: #7f7f7f; text-decoration-color: #7f7f7f\">1021 </span><span style=\"color: #7f7f7f; text-decoration-color: #7f7f7f\">│   │   │   </span>)                                                                             <span style=\"color: #ff0000; text-decoration-color: #ff0000\">│</span>\n",
       "<span style=\"color: #ff0000; text-decoration-color: #ff0000\">│</span>   <span style=\"color: #7f7f7f; text-decoration-color: #7f7f7f\">1022 </span><span style=\"color: #7f7f7f; text-decoration-color: #7f7f7f\">│   │   │   </span>error_class = <span style=\"color: #00ffff; text-decoration-color: #00ffff\">self</span>.exceptions.from_code(error_code)                           <span style=\"color: #ff0000; text-decoration-color: #ff0000\">│</span>\n",
       "<span style=\"color: #ff0000; text-decoration-color: #ff0000\">│</span> <span style=\"color: #800000; text-decoration-color: #800000\">❱ </span>1023 <span style=\"color: #7f7f7f; text-decoration-color: #7f7f7f\">│   │   │   </span><span style=\"color: #0000ff; text-decoration-color: #0000ff; font-weight: bold; text-decoration: underline\">raise</span><span style=\"font-weight: bold; text-decoration: underline\"> error_class(parsed_response, operation_name)</span>                            <span style=\"color: #ff0000; text-decoration-color: #ff0000\">│</span>\n",
       "<span style=\"color: #ff0000; text-decoration-color: #ff0000\">│</span>   <span style=\"color: #7f7f7f; text-decoration-color: #7f7f7f\">1024 </span><span style=\"color: #7f7f7f; text-decoration-color: #7f7f7f\">│   │   </span><span style=\"color: #0000ff; text-decoration-color: #0000ff\">else</span>:                                                                             <span style=\"color: #ff0000; text-decoration-color: #ff0000\">│</span>\n",
       "<span style=\"color: #ff0000; text-decoration-color: #ff0000\">│</span>   <span style=\"color: #7f7f7f; text-decoration-color: #7f7f7f\">1025 </span><span style=\"color: #7f7f7f; text-decoration-color: #7f7f7f\">│   │   │   </span><span style=\"color: #0000ff; text-decoration-color: #0000ff\">return</span> parsed_response                                                        <span style=\"color: #ff0000; text-decoration-color: #ff0000\">│</span>\n",
       "<span style=\"color: #ff0000; text-decoration-color: #ff0000\">│</span>   <span style=\"color: #7f7f7f; text-decoration-color: #7f7f7f\">1026 </span>                                                                                          <span style=\"color: #ff0000; text-decoration-color: #ff0000\">│</span>\n",
       "<span style=\"color: #ff0000; text-decoration-color: #ff0000\">╰──────────────────────────────────────────────────────────────────────────────────────────────────╯</span>\n",
       "<span style=\"color: #ff0000; text-decoration-color: #ff0000; font-weight: bold\">ClientError: </span>An error occurred <span style=\"font-weight: bold\">(</span>ValidationException<span style=\"font-weight: bold\">)</span> when calling the CreatePipeline operation: Cannot assign \n",
       "property reference <span style=\"font-weight: bold\">[</span>Parameters.ImageSizeHeight<span style=\"font-weight: bold\">]</span> to argument of type <span style=\"font-weight: bold\">[</span>String<span style=\"font-weight: bold\">]</span>.\n",
       "</pre>\n"
      ],
      "text/plain": [
       "\u001b[38;2;255;0;0m╭─\u001b[0m\u001b[38;2;255;0;0m──────────────────────────────\u001b[0m\u001b[38;2;255;0;0m \u001b[0m\u001b[1;38;2;255;0;0mTraceback \u001b[0m\u001b[1;2;38;2;255;0;0m(most recent call last)\u001b[0m\u001b[38;2;255;0;0m \u001b[0m\u001b[38;2;255;0;0m───────────────────────────────\u001b[0m\u001b[38;2;255;0;0m─╮\u001b[0m\n",
       "\u001b[38;2;255;0;0m│\u001b[0m in <module>:5                                                                                    \u001b[38;2;255;0;0m│\u001b[0m\n",
       "\u001b[38;2;255;0;0m│\u001b[0m                                                                                                  \u001b[38;2;255;0;0m│\u001b[0m\n",
       "\u001b[38;2;255;0;0m│\u001b[0m   \u001b[2m 2 \u001b[0m\u001b[96mprint\u001b[0m(pipeline.definition())                                                                \u001b[38;2;255;0;0m│\u001b[0m\n",
       "\u001b[38;2;255;0;0m│\u001b[0m   \u001b[2m 3 \u001b[0m\u001b[96mprint\u001b[0m(\u001b[33m\"\u001b[0m\u001b[33mhello\u001b[0m\u001b[33m\"\u001b[0m)\u001b[2m# Print JSON definition\u001b[0m                                                       \u001b[38;2;255;0;0m│\u001b[0m\n",
       "\u001b[38;2;255;0;0m│\u001b[0m   \u001b[2m 4 \u001b[0m                                                                                            \u001b[38;2;255;0;0m│\u001b[0m\n",
       "\u001b[38;2;255;0;0m│\u001b[0m \u001b[31m❱ \u001b[0m 5 \u001b[1;4mpipeline.upsert(\u001b[0m                                                                            \u001b[38;2;255;0;0m│\u001b[0m\n",
       "\u001b[38;2;255;0;0m│\u001b[0m   \u001b[2m 6 \u001b[0m\u001b[2m│   \u001b[0m\u001b[1;4mrole_arn=role,\u001b[0m                                                                          \u001b[38;2;255;0;0m│\u001b[0m\n",
       "\u001b[38;2;255;0;0m│\u001b[0m   \u001b[2m 7 \u001b[0m\u001b[2m│   \u001b[0m\u001b[1;4mdescription=\u001b[0m\u001b[1;4;33m\"\u001b[0m\u001b[1;4;33mAR Defect Detection Pipeline using ResNet50-SE\u001b[0m\u001b[1;4;33m\"\u001b[0m\u001b[1;4m,\u001b[0m                           \u001b[38;2;255;0;0m│\u001b[0m\n",
       "\u001b[38;2;255;0;0m│\u001b[0m   \u001b[2m 8 \u001b[0m\u001b[1;4m)\u001b[0m                                                                                           \u001b[38;2;255;0;0m│\u001b[0m\n",
       "\u001b[38;2;255;0;0m│\u001b[0m                                                                                                  \u001b[38;2;255;0;0m│\u001b[0m\n",
       "\u001b[38;2;255;0;0m│\u001b[0m \u001b[2m/opt/conda/lib/python3.12/site-packages/sagemaker/workflow/\u001b[0m\u001b[1mpipeline.py\u001b[0m:297 in upsert             \u001b[38;2;255;0;0m│\u001b[0m\n",
       "\u001b[38;2;255;0;0m│\u001b[0m                                                                                                  \u001b[38;2;255;0;0m│\u001b[0m\n",
       "\u001b[38;2;255;0;0m│\u001b[0m   \u001b[2m 294 \u001b[0m\u001b[2m│   │   │   \u001b[0merror_code = ce.response[\u001b[33m\"\u001b[0m\u001b[33mError\u001b[0m\u001b[33m\"\u001b[0m][\u001b[33m\"\u001b[0m\u001b[33mCode\u001b[0m\u001b[33m\"\u001b[0m]                                     \u001b[38;2;255;0;0m│\u001b[0m\n",
       "\u001b[38;2;255;0;0m│\u001b[0m   \u001b[2m 295 \u001b[0m\u001b[2m│   │   │   \u001b[0merror_message = ce.response[\u001b[33m\"\u001b[0m\u001b[33mError\u001b[0m\u001b[33m\"\u001b[0m][\u001b[33m\"\u001b[0m\u001b[33mMessage\u001b[0m\u001b[33m\"\u001b[0m]                               \u001b[38;2;255;0;0m│\u001b[0m\n",
       "\u001b[38;2;255;0;0m│\u001b[0m   \u001b[2m 296 \u001b[0m\u001b[2m│   │   │   \u001b[0m\u001b[94mif\u001b[0m \u001b[95mnot\u001b[0m (error_code == \u001b[33m\"\u001b[0m\u001b[33mValidationException\u001b[0m\u001b[33m\"\u001b[0m \u001b[95mand\u001b[0m \u001b[33m\"\u001b[0m\u001b[33malready exists\u001b[0m\u001b[33m\"\u001b[0m \u001b[95min\u001b[0m error_me  \u001b[38;2;255;0;0m│\u001b[0m\n",
       "\u001b[38;2;255;0;0m│\u001b[0m \u001b[31m❱ \u001b[0m 297 \u001b[2m│   │   │   │   \u001b[0m\u001b[1;4;94mraise\u001b[0m\u001b[1;4m ce\u001b[0m                                                                  \u001b[38;2;255;0;0m│\u001b[0m\n",
       "\u001b[38;2;255;0;0m│\u001b[0m   \u001b[2m 298 \u001b[0m\u001b[2m│   │   │   \u001b[0m\u001b[2m# already exists\u001b[0m                                                              \u001b[38;2;255;0;0m│\u001b[0m\n",
       "\u001b[38;2;255;0;0m│\u001b[0m   \u001b[2m 299 \u001b[0m\u001b[2m│   │   │   \u001b[0mresponse = \u001b[96mself\u001b[0m.update(role_arn, description, parallelism_config=parallelism  \u001b[38;2;255;0;0m│\u001b[0m\n",
       "\u001b[38;2;255;0;0m│\u001b[0m   \u001b[2m 300 \u001b[0m\u001b[2m│   │   │   \u001b[0m\u001b[2m# add new tags to existing resource\u001b[0m                                           \u001b[38;2;255;0;0m│\u001b[0m\n",
       "\u001b[38;2;255;0;0m│\u001b[0m                                                                                                  \u001b[38;2;255;0;0m│\u001b[0m\n",
       "\u001b[38;2;255;0;0m│\u001b[0m \u001b[2m/opt/conda/lib/python3.12/site-packages/sagemaker/workflow/\u001b[0m\u001b[1mpipeline.py\u001b[0m:292 in upsert             \u001b[38;2;255;0;0m│\u001b[0m\n",
       "\u001b[38;2;255;0;0m│\u001b[0m                                                                                                  \u001b[38;2;255;0;0m│\u001b[0m\n",
       "\u001b[38;2;255;0;0m│\u001b[0m   \u001b[2m 289 \u001b[0m\u001b[2m│   │   │   \u001b[0m\u001b[2m# after fetching the config.\u001b[0m                                                  \u001b[38;2;255;0;0m│\u001b[0m\n",
       "\u001b[38;2;255;0;0m│\u001b[0m   \u001b[2m 290 \u001b[0m\u001b[2m│   │   │   \u001b[0m\u001b[94mraise\u001b[0m \u001b[96mValueError\u001b[0m(\u001b[33m\"\u001b[0m\u001b[33mAn AWS IAM role is required to create or update a Pipeline\u001b[0m  \u001b[38;2;255;0;0m│\u001b[0m\n",
       "\u001b[38;2;255;0;0m│\u001b[0m   \u001b[2m 291 \u001b[0m\u001b[2m│   │   \u001b[0m\u001b[94mtry\u001b[0m:                                                                              \u001b[38;2;255;0;0m│\u001b[0m\n",
       "\u001b[38;2;255;0;0m│\u001b[0m \u001b[31m❱ \u001b[0m 292 \u001b[2m│   │   │   \u001b[0mresponse = \u001b[96mself\u001b[0m.create(role_arn, description, tags, parallelism_config)       \u001b[38;2;255;0;0m│\u001b[0m\n",
       "\u001b[38;2;255;0;0m│\u001b[0m   \u001b[2m 293 \u001b[0m\u001b[2m│   │   \u001b[0m\u001b[94mexcept\u001b[0m ClientError \u001b[94mas\u001b[0m ce:                                                         \u001b[38;2;255;0;0m│\u001b[0m\n",
       "\u001b[38;2;255;0;0m│\u001b[0m   \u001b[2m 294 \u001b[0m\u001b[2m│   │   │   \u001b[0merror_code = ce.response[\u001b[33m\"\u001b[0m\u001b[33mError\u001b[0m\u001b[33m\"\u001b[0m][\u001b[33m\"\u001b[0m\u001b[33mCode\u001b[0m\u001b[33m\"\u001b[0m]                                     \u001b[38;2;255;0;0m│\u001b[0m\n",
       "\u001b[38;2;255;0;0m│\u001b[0m   \u001b[2m 295 \u001b[0m\u001b[2m│   │   │   \u001b[0merror_message = ce.response[\u001b[33m\"\u001b[0m\u001b[33mError\u001b[0m\u001b[33m\"\u001b[0m][\u001b[33m\"\u001b[0m\u001b[33mMessage\u001b[0m\u001b[33m\"\u001b[0m]                               \u001b[38;2;255;0;0m│\u001b[0m\n",
       "\u001b[38;2;255;0;0m│\u001b[0m                                                                                                  \u001b[38;2;255;0;0m│\u001b[0m\n",
       "\u001b[38;2;255;0;0m│\u001b[0m \u001b[2m/opt/conda/lib/python3.12/site-packages/sagemaker/workflow/\u001b[0m\u001b[1mpipeline.py\u001b[0m:169 in create             \u001b[38;2;255;0;0m│\u001b[0m\n",
       "\u001b[38;2;255;0;0m│\u001b[0m                                                                                                  \u001b[38;2;255;0;0m│\u001b[0m\n",
       "\u001b[38;2;255;0;0m│\u001b[0m   \u001b[2m 166 \u001b[0m\u001b[2m│   │   │   \u001b[0mkwargs,                                                                       \u001b[38;2;255;0;0m│\u001b[0m\n",
       "\u001b[38;2;255;0;0m│\u001b[0m   \u001b[2m 167 \u001b[0m\u001b[2m│   │   │   \u001b[0mTags=tags,                                                                    \u001b[38;2;255;0;0m│\u001b[0m\n",
       "\u001b[38;2;255;0;0m│\u001b[0m   \u001b[2m 168 \u001b[0m\u001b[2m│   │   \u001b[0m)                                                                                 \u001b[38;2;255;0;0m│\u001b[0m\n",
       "\u001b[38;2;255;0;0m│\u001b[0m \u001b[31m❱ \u001b[0m 169 \u001b[2m│   │   \u001b[0m\u001b[94mreturn\u001b[0m \u001b[1;4;96mself\u001b[0m\u001b[1;4m.sagemaker_session.sagemaker_client.create_pipeline(**kwargs)\u001b[0m          \u001b[38;2;255;0;0m│\u001b[0m\n",
       "\u001b[38;2;255;0;0m│\u001b[0m   \u001b[2m 170 \u001b[0m\u001b[2m│   \u001b[0m                                                                                      \u001b[38;2;255;0;0m│\u001b[0m\n",
       "\u001b[38;2;255;0;0m│\u001b[0m   \u001b[2m 171 \u001b[0m\u001b[2m│   \u001b[0m\u001b[94mdef\u001b[0m\u001b[90m \u001b[0m\u001b[92m_create_args\u001b[0m(                                                                     \u001b[38;2;255;0;0m│\u001b[0m\n",
       "\u001b[38;2;255;0;0m│\u001b[0m   \u001b[2m 172 \u001b[0m\u001b[2m│   │   \u001b[0m\u001b[96mself\u001b[0m, role_arn: \u001b[96mstr\u001b[0m, description: \u001b[96mstr\u001b[0m, parallelism_config: ParallelismConfigurat  \u001b[38;2;255;0;0m│\u001b[0m\n",
       "\u001b[38;2;255;0;0m│\u001b[0m                                                                                                  \u001b[38;2;255;0;0m│\u001b[0m\n",
       "\u001b[38;2;255;0;0m│\u001b[0m \u001b[2m/opt/conda/lib/python3.12/site-packages/botocore/\u001b[0m\u001b[1mclient.py\u001b[0m:569 in _api_call                      \u001b[38;2;255;0;0m│\u001b[0m\n",
       "\u001b[38;2;255;0;0m│\u001b[0m                                                                                                  \u001b[38;2;255;0;0m│\u001b[0m\n",
       "\u001b[38;2;255;0;0m│\u001b[0m   \u001b[2m 566 \u001b[0m\u001b[2m│   │   │   │   │   \u001b[0m\u001b[33mf\u001b[0m\u001b[33m\"\u001b[0m\u001b[33m{\u001b[0mpy_operation_name\u001b[33m}\u001b[0m\u001b[33m() only accepts keyword arguments.\u001b[0m\u001b[33m\"\u001b[0m              \u001b[38;2;255;0;0m│\u001b[0m\n",
       "\u001b[38;2;255;0;0m│\u001b[0m   \u001b[2m 567 \u001b[0m\u001b[2m│   │   │   │   \u001b[0m)                                                                         \u001b[38;2;255;0;0m│\u001b[0m\n",
       "\u001b[38;2;255;0;0m│\u001b[0m   \u001b[2m 568 \u001b[0m\u001b[2m│   │   │   \u001b[0m\u001b[2m# The \"self\" in this scope is referring to the BaseClient.\u001b[0m                    \u001b[38;2;255;0;0m│\u001b[0m\n",
       "\u001b[38;2;255;0;0m│\u001b[0m \u001b[31m❱ \u001b[0m 569 \u001b[2m│   │   │   \u001b[0m\u001b[94mreturn\u001b[0m \u001b[1;4;96mself\u001b[0m\u001b[1;4m._make_api_call(operation_name, kwargs)\u001b[0m                            \u001b[38;2;255;0;0m│\u001b[0m\n",
       "\u001b[38;2;255;0;0m│\u001b[0m   \u001b[2m 570 \u001b[0m\u001b[2m│   │   \u001b[0m                                                                                  \u001b[38;2;255;0;0m│\u001b[0m\n",
       "\u001b[38;2;255;0;0m│\u001b[0m   \u001b[2m 571 \u001b[0m\u001b[2m│   │   \u001b[0m_api_call.\u001b[91m__name__\u001b[0m = \u001b[96mstr\u001b[0m(py_operation_name)                                       \u001b[38;2;255;0;0m│\u001b[0m\n",
       "\u001b[38;2;255;0;0m│\u001b[0m   \u001b[2m 572 \u001b[0m                                                                                          \u001b[38;2;255;0;0m│\u001b[0m\n",
       "\u001b[38;2;255;0;0m│\u001b[0m                                                                                                  \u001b[38;2;255;0;0m│\u001b[0m\n",
       "\u001b[38;2;255;0;0m│\u001b[0m \u001b[2m/opt/conda/lib/python3.12/site-packages/botocore/\u001b[0m\u001b[1mclient.py\u001b[0m:1023 in _make_api_call                \u001b[38;2;255;0;0m│\u001b[0m\n",
       "\u001b[38;2;255;0;0m│\u001b[0m                                                                                                  \u001b[38;2;255;0;0m│\u001b[0m\n",
       "\u001b[38;2;255;0;0m│\u001b[0m   \u001b[2m1020 \u001b[0m\u001b[2m│   │   │   │   \u001b[0m\u001b[33m\"\u001b[0m\u001b[33mCode\u001b[0m\u001b[33m\"\u001b[0m                                                                    \u001b[38;2;255;0;0m│\u001b[0m\n",
       "\u001b[38;2;255;0;0m│\u001b[0m   \u001b[2m1021 \u001b[0m\u001b[2m│   │   │   \u001b[0m)                                                                             \u001b[38;2;255;0;0m│\u001b[0m\n",
       "\u001b[38;2;255;0;0m│\u001b[0m   \u001b[2m1022 \u001b[0m\u001b[2m│   │   │   \u001b[0merror_class = \u001b[96mself\u001b[0m.exceptions.from_code(error_code)                           \u001b[38;2;255;0;0m│\u001b[0m\n",
       "\u001b[38;2;255;0;0m│\u001b[0m \u001b[31m❱ \u001b[0m1023 \u001b[2m│   │   │   \u001b[0m\u001b[1;4;94mraise\u001b[0m\u001b[1;4m error_class(parsed_response, operation_name)\u001b[0m                            \u001b[38;2;255;0;0m│\u001b[0m\n",
       "\u001b[38;2;255;0;0m│\u001b[0m   \u001b[2m1024 \u001b[0m\u001b[2m│   │   \u001b[0m\u001b[94melse\u001b[0m:                                                                             \u001b[38;2;255;0;0m│\u001b[0m\n",
       "\u001b[38;2;255;0;0m│\u001b[0m   \u001b[2m1025 \u001b[0m\u001b[2m│   │   │   \u001b[0m\u001b[94mreturn\u001b[0m parsed_response                                                        \u001b[38;2;255;0;0m│\u001b[0m\n",
       "\u001b[38;2;255;0;0m│\u001b[0m   \u001b[2m1026 \u001b[0m                                                                                          \u001b[38;2;255;0;0m│\u001b[0m\n",
       "\u001b[38;2;255;0;0m╰──────────────────────────────────────────────────────────────────────────────────────────────────╯\u001b[0m\n",
       "\u001b[1;91mClientError: \u001b[0mAn error occurred \u001b[1m(\u001b[0mValidationException\u001b[1m)\u001b[0m when calling the CreatePipeline operation: Cannot assign \n",
       "property reference \u001b[1m[\u001b[0mParameters.ImageSizeHeight\u001b[1m]\u001b[0m to argument of type \u001b[1m[\u001b[0mString\u001b[1m]\u001b[0m.\n"
      ]
     },
     "metadata": {},
     "output_type": "display_data"
    },
    {
     "data": {
      "application/sagemaker-interactive-debugging": {
       "cell_id": "6def4541-6cb5-409a-bb64-cdb80e5e527c",
       "debugging_info_folder": "/home/sagemaker-user/shared/.temp_sagemaker_unified_studio_debugging_info/6def4541-6cb5-409a-bb64-cdb80e5e527c",
       "instruction_file": "/home/sagemaker-user/shared/.temp_sagemaker_unified_studio_debugging_info/ipython_debugging_sop.txt",
       "magic_command": "no_magic",
       "session_type": "python_3"
      }
     },
     "metadata": {},
     "output_type": "display_data"
    }
   ],
   "source": [
    "print(\"Pipeline Definition:\")\n",
    "print(pipeline.definition())\n",
    "print(\"hello\")# Print JSON definition\n",
    "\n",
    "pipeline.upsert(\n",
    "    role_arn=role,\n",
    "    description=\"AR Defect Detection Pipeline using ResNet50-SE\",\n",
    ")\n",
    "\n",
    "# Example of how to start an execution\n",
    "execution = pipeline.start()"
   ]
  },
  {
   "cell_type": "code",
   "execution_count": null,
   "metadata": {
    "execution": {
     "iopub.status.busy": "2025-10-10T08:08:05.354308Z",
     "iopub.status.idle": "2025-10-10T08:08:05.354594Z",
     "shell.execute_reply": "2025-10-10T08:08:05.354478Z",
     "shell.execute_reply.started": "2025-10-10T08:08:05.354466Z"
    }
   },
   "outputs": [],
   "source": [
    "# # Create/Update the pipeline\n",
    "# try:\n",
    "#     pipeline.upsert(role_arn=role)\n",
    "#     print(\"Pipeline upserted successfully!\")\n",
    "# except Exception as e:\n",
    "#     print(f\"Error upserting pipeline: {e}\")"
   ]
  },
  {
   "cell_type": "code",
   "execution_count": null,
   "metadata": {
    "execution": {
     "iopub.status.busy": "2025-10-10T08:08:05.355292Z",
     "iopub.status.idle": "2025-10-10T08:08:05.355662Z",
     "shell.execute_reply": "2025-10-10T08:08:05.355544Z",
     "shell.execute_reply.started": "2025-10-10T08:08:05.355517Z"
    }
   },
   "outputs": [],
   "source": [
    "# Execute the pipeline\n",
    "# execution = pipeline.start(\n",
    "#     parameters={\n",
    "#         \"InputDataUri\": \"Dataset\",\n",
    "#         \"OutputDataUri\": OUTPUT_S3_URI,\n",
    "#         \"ImageSizeHeight\": 128,  # Matching your example\n",
    "#         \"ImageSizeWidth\": 128,\n",
    "#         \"ValidationSplit\": 0.2\n",
    "#     }\n",
    "# )\n",
    "\n",
    "# print(f\"Pipeline execution started!\")\n",
    "# print(f\"Execution ARN: {execution.arn}\")\n",
    "# print(f\"Execution name: {execution.name}\")"
   ]
  },
  {
   "cell_type": "code",
   "execution_count": null,
   "metadata": {
    "execution": {
     "iopub.status.busy": "2025-10-10T08:08:05.355997Z",
     "iopub.status.idle": "2025-10-10T08:08:05.356255Z",
     "shell.execute_reply": "2025-10-10T08:08:05.356155Z",
     "shell.execute_reply.started": "2025-10-10T08:08:05.356144Z"
    }
   },
   "outputs": [],
   "source": [
    "# Monitor execution status\n",
    "execution.wait(delay=30, max_attempts=120)  # Wait up to 1 hour\n",
    "print(f\"Pipeline execution completed!\")\n",
    "print(f\"Status: {execution.describe()['PipelineExecutionStatus']}\")"
   ]
  },
  {
   "cell_type": "code",
   "execution_count": null,
   "metadata": {
    "execution": {
     "iopub.status.busy": "2025-10-10T08:08:05.356552Z",
     "iopub.status.idle": "2025-10-10T08:08:05.356836Z",
     "shell.execute_reply": "2025-10-10T08:08:05.356656Z",
     "shell.execute_reply.started": "2025-10-10T08:08:05.356647Z"
    }
   },
   "outputs": [],
   "source": [
    "# Check execution details\n",
    "steps = execution.list_steps()\n",
    "for step in steps:\n",
    "    print(f\"Step: {step['StepName']}\")\n",
    "    print(f\"Status: {step['StepStatus']}\")\n",
    "    if 'FailureReason' in step:\n",
    "        print(f\"Failure Reason: {step['FailureReason']}\")\n",
    "    print(\"---\")"
   ]
  }
 ],
 "metadata": {
  "kernelspec": {
   "display_name": "Python 3 (ipykernel)",
   "language": "python",
   "name": "python3"
  },
  "language_info": {
   "codemirror_mode": {
    "name": "ipython",
    "version": 3
   },
   "file_extension": ".py",
   "mimetype": "text/x-python",
   "name": "python",
   "nbconvert_exporter": "python",
   "pygments_lexer": "ipython3",
   "version": "3.12.9"
  }
 },
 "nbformat": 4,
 "nbformat_minor": 4
}
