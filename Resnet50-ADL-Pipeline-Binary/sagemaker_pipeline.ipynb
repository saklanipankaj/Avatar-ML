{
 "cells": [
  {
   "cell_type": "markdown",
   "metadata": {},
   "source": [
    "# SageMaker Pipeline for ResNet Defect Detection\n",
    "\n",
    "This notebook creates a SageMaker Pipeline with:\n",
    "1. Data preprocessing step using sklearn container\n",
    "2. Model training step using PyTorch container"
   ]
  },
  {
   "cell_type": "code",
   "execution_count": 1,
   "metadata": {
    "execution": {
     "iopub.execute_input": "2025-10-29T09:02:38.719403Z",
     "iopub.status.busy": "2025-10-29T09:02:38.719238Z",
     "iopub.status.idle": "2025-10-29T09:02:41.699798Z",
     "shell.execute_reply": "2025-10-29T09:02:41.699280Z",
     "shell.execute_reply.started": "2025-10-29T09:02:38.719384Z"
    }
   },
   "outputs": [
    {
     "name": "stdout",
     "output_type": "stream",
     "text": [
      "sagemaker.config INFO - Fetched defaults config from location: /etc/xdg/sagemaker/config.yaml\n",
      "sagemaker.config INFO - Not applying SDK defaults from location: /home/sagemaker-user/.config/sagemaker/config.yaml\n",
      "sagemaker.config INFO - Applied value from config key = SageMaker.PythonSDK.Modules.Session.DefaultS3Bucket\n",
      "sagemaker.config INFO - Applied value from config key = SageMaker.PythonSDK.Modules.Session.DefaultS3ObjectKeyPrefix\n",
      "sagemaker.config INFO - Applied value from config key = SageMaker.PythonSDK.Modules.Session.DefaultS3Bucket\n",
      "sagemaker.config INFO - Applied value from config key = SageMaker.PythonSDK.Modules.Session.DefaultS3ObjectKeyPrefix\n",
      "sagemaker.config INFO - Applied value from config key = SageMaker.PythonSDK.Modules.Session.DefaultS3Bucket\n",
      "sagemaker.config INFO - Applied value from config key = SageMaker.PythonSDK.Modules.Session.DefaultS3ObjectKeyPrefix\n",
      "s3://amazon-sagemaker-946156973544-ap-southeast-1-6583c3ac0a8a/dzd-4uv7pknhqq5kgx/avt7vgtu28llb5/shared/\n"
     ]
    }
   ],
   "source": [
    "import boto3\n",
    "import sagemaker\n",
    "from sagemaker.sklearn.processing import SKLearnProcessor\n",
    "from sagemaker.pytorch import PyTorch\n",
    "from sagemaker.processing import ProcessingInput, ProcessingOutput\n",
    "from sagemaker.inputs import TrainingInput\n",
    "from sagemaker.workflow.pipeline import Pipeline\n",
    "from sagemaker.workflow.steps import ProcessingStep, TrainingStep\n",
    "from sagemaker.workflow.parameters import ParameterString, ParameterInteger\n",
    "import os\n",
    "\n",
    "# Configuration\n",
    "pipeline_name = \"ResNet50-ADL-Pipeline\"\n",
    "base_dir = os.path.dirname(os.path.abspath('__file__'))\n",
    "\n",
    "# Defect classes to train - comma-separated list or 'all' for all classes\n",
    "# DEFECT_CLASSES = \"lighting_panel,shifted_grab_handle,frosted_window,Diffuser_cover\"\n",
    "DEFECT_CLASSES = \"Diffuser_cover\"\n",
    "# DEFECT_CLASSES = \"all\"  # Uncomment to train on all discovered classes\n",
    "\n",
    "# Initialize SageMaker pipeline session\n",
    "pipeline_session = sagemaker.workflow.pipeline_context.PipelineSession()\n",
    "bucket_name = pipeline_session.default_bucket()\n",
    "project_prefix = \"/\".join(pipeline_session.default_bucket_prefix.split(\"/\")[0:2])\n",
    "role = sagemaker.get_execution_role()\n",
    "\n",
    "print(f\"s3://{bucket_name}/{project_prefix}/shared/\")\n",
    "dataset_location = f'{bucket_name}/{project_prefix}/shared/Dataset'\n",
    "dataprocessing_output = f'{bucket_name}/{project_prefix}/shared/{pipeline_name}/processed-data'\n",
    "training_output = f'{bucket_name}/{project_prefix}/shared/{pipeline_name}/training-output'"
   ]
  },
  {
   "cell_type": "code",
   "execution_count": 2,
   "metadata": {
    "execution": {
     "iopub.execute_input": "2025-10-29T09:02:41.700511Z",
     "iopub.status.busy": "2025-10-29T09:02:41.700324Z",
     "iopub.status.idle": "2025-10-29T09:02:41.705115Z",
     "shell.execute_reply": "2025-10-29T09:02:41.704642Z",
     "shell.execute_reply.started": "2025-10-29T09:02:41.700493Z"
    }
   },
   "outputs": [],
   "source": [
    "# Define pipeline parameters\n",
    "input_data_uri = ParameterString(\n",
    "    name=\"InputDataUri\",\n",
    "    default_value=f\"s3://{dataset_location}\"\n",
    ")\n",
    "\n",
    "processing_instance_type = ParameterString(\n",
    "    name=\"ProcessingInstanceType\",\n",
    "    default_value=\"ml.m5.xlarge\"\n",
    ")\n",
    "\n",
    "training_instance_type = ParameterString(\n",
    "    name=\"TrainingInstanceType\",\n",
    "    default_value=\"ml.g4dn.xlarge\"\n",
    ")\n",
    "\n",
    "epochs = ParameterInteger(\n",
    "    name=\"Epochs\",\n",
    "    default_value=50\n",
    ")\n",
    "\n",
    "batch_size = ParameterInteger(\n",
    "    name=\"BatchSize\",\n",
    "    default_value=16\n",
    ")\n",
    "\n",
    "defect_classes = ParameterString(\n",
    "    name=\"DefectClasses\",\n",
    "    default_value=DEFECT_CLASSES\n",
    ")"
   ]
  },
  {
   "cell_type": "code",
   "execution_count": 3,
   "metadata": {
    "execution": {
     "iopub.execute_input": "2025-10-29T09:02:41.705823Z",
     "iopub.status.busy": "2025-10-29T09:02:41.705623Z",
     "iopub.status.idle": "2025-10-29T09:02:42.551334Z",
     "shell.execute_reply": "2025-10-29T09:02:42.550815Z",
     "shell.execute_reply.started": "2025-10-29T09:02:41.705802Z"
    }
   },
   "outputs": [
    {
     "name": "stdout",
     "output_type": "stream",
     "text": [
      "sagemaker.config INFO - Applied value from config key = SageMaker.ProcessingJob.NetworkConfig.VpcConfig.Subnets\n",
      "sagemaker.config INFO - Applied value from config key = SageMaker.ProcessingJob.NetworkConfig.VpcConfig.SecurityGroupIds\n"
     ]
    }
   ],
   "source": [
    "# Step 1: Data Preprocessing using SKLearn container\n",
    "sklearn_processor = SKLearnProcessor(\n",
    "    framework_version=\"1.2-1\",\n",
    "    instance_type=processing_instance_type,\n",
    "    instance_count=1,\n",
    "    role=role,\n",
    "    sagemaker_session=pipeline_session\n",
    ")\n",
    "\n",
    "processing_step = ProcessingStep(\n",
    "    name=\"PreprocessData\",\n",
    "    processor=sklearn_processor,\n",
    "    inputs=[\n",
    "        ProcessingInput(\n",
    "            source=input_data_uri,\n",
    "            destination=\"/opt/ml/processing/input\"\n",
    "        )\n",
    "    ],\n",
    "    outputs=[\n",
    "        ProcessingOutput(\n",
    "            output_name=\"train_data\",\n",
    "            source=\"/opt/ml/processing/output/train\",\n",
    "            destination=f\"s3://{dataprocessing_output}/train\"\n",
    "        ),\n",
    "        ProcessingOutput(\n",
    "            output_name=\"val_data\",\n",
    "            source=\"/opt/ml/processing/output/val\",\n",
    "            destination=f\"s3://{dataprocessing_output}/val\"\n",
    "        )\n",
    "    ],\n",
    "    code=os.path.join(base_dir, \"code\", \"processing.py\"),\n",
    "    cache_config=sagemaker.workflow.steps.CacheConfig(enable_caching=True, expire_after=\"30d\")\n",
    ")"
   ]
  },
  {
   "cell_type": "code",
   "execution_count": 4,
   "metadata": {
    "execution": {
     "iopub.execute_input": "2025-10-29T09:02:42.553286Z",
     "iopub.status.busy": "2025-10-29T09:02:42.553056Z",
     "iopub.status.idle": "2025-10-29T09:02:43.669461Z",
     "shell.execute_reply": "2025-10-29T09:02:43.668825Z",
     "shell.execute_reply.started": "2025-10-29T09:02:42.553251Z"
    }
   },
   "outputs": [
    {
     "name": "stdout",
     "output_type": "stream",
     "text": [
      "sagemaker.config INFO - Applied value from config key = SageMaker.TrainingJob.VpcConfig.Subnets\n",
      "sagemaker.config INFO - Applied value from config key = SageMaker.TrainingJob.VpcConfig.SecurityGroupIds\n"
     ]
    }
   ],
   "source": [
    "# Step 2: Model Training using PyTorch container\n",
    "pytorch_estimator = PyTorch(\n",
    "    entry_point=\"training_all_folds.py\",\n",
    "    source_dir=os.path.join(base_dir, \"code\"),\n",
    "    role=role,\n",
    "    instance_type=training_instance_type,\n",
    "    instance_count=1,\n",
    "    framework_version=\"2.0.0\",\n",
    "    py_version=\"py310\",\n",
    "    hyperparameters={\n",
    "        \"epochs\": epochs,\n",
    "        \"batch_size\": batch_size,\n",
    "        \"defect_classes\": defect_classes,\n",
    "        \"lr\": 0.001,\n",
    "        \"num_classes\": 2,\n",
    "        \"drop_rate\": 0.4,\n",
    "        \"drop_threshold\": 0.8,\n",
    "        \"adl_alpha\": 0.1,\n",
    "        \"patience\": 5\n",
    "    },\n",
    "    output_path=f\"s3://{training_output}\",\n",
    "    sagemaker_session=pipeline_session\n",
    ")\n",
    "\n",
    "training_step = TrainingStep(\n",
    "    name=\"TrainModel\",\n",
    "    estimator=pytorch_estimator,\n",
    "    inputs={\n",
    "        \"train\": TrainingInput(\n",
    "            s3_data=processing_step.properties.ProcessingOutputConfig.Outputs[\"train_data\"].S3Output.S3Uri\n",
    "        ),\n",
    "        \"val\": TrainingInput(\n",
    "            s3_data=processing_step.properties.ProcessingOutputConfig.Outputs[\"val_data\"].S3Output.S3Uri\n",
    "        ),\n",
    "        \"images\": TrainingInput(\n",
    "            s3_data=input_data_uri\n",
    "        )\n",
    "    }\n",
    ")"
   ]
  },
  {
   "cell_type": "code",
   "execution_count": 5,
   "metadata": {
    "execution": {
     "iopub.execute_input": "2025-10-29T09:02:43.670409Z",
     "iopub.status.busy": "2025-10-29T09:02:43.670100Z",
     "iopub.status.idle": "2025-10-29T09:02:44.512435Z",
     "shell.execute_reply": "2025-10-29T09:02:44.511886Z",
     "shell.execute_reply.started": "2025-10-29T09:02:43.670352Z"
    }
   },
   "outputs": [
    {
     "name": "stdout",
     "output_type": "stream",
     "text": [
      "sagemaker.config INFO - Applied value from config key = SageMaker.ProcessingJob.NetworkConfig.VpcConfig.Subnets\n",
      "sagemaker.config INFO - Applied value from config key = SageMaker.ProcessingJob.NetworkConfig.VpcConfig.SecurityGroupIds\n"
     ]
    }
   ],
   "source": [
    "from sagemaker.sklearn.processing import SKLearnProcessor\n",
    "from sagemaker.processing import ProcessingInput, ProcessingOutput\n",
    "from sagemaker.workflow.steps import ProcessingStep\n",
    "\n",
    "# Define the SKLearnProcessor\n",
    "evaluation_processor = SKLearnProcessor(\n",
    "    framework_version=\"1.2-1\",\n",
    "    instance_type=processing_instance_type,\n",
    "    instance_count=1,\n",
    "    role=role,\n",
    "    sagemaker_session=pipeline_session\n",
    ")\n",
    "\n",
    "# Define the ProcessingStep\n",
    "evaluation_step = ProcessingStep(\n",
    "    name=\"EvaluateModel\",\n",
    "    processor=evaluation_processor,\n",
    "    inputs=[\n",
    "        ProcessingInput(\n",
    "            source=training_step.properties.ModelArtifacts.S3ModelArtifacts,\n",
    "            destination=\"/opt/ml/processing/model\"\n",
    "        )\n",
    "    ],\n",
    "    outputs=[\n",
    "        ProcessingOutput(\n",
    "            output_name=\"evaluation\",\n",
    "            source=\"/opt/ml/processing/output\",\n",
    "            destination=f\"s3://{bucket_name}/{project_prefix}/shared/{pipeline_name}/evaluation\"\n",
    "        )\n",
    "    ],\n",
    "    code=os.path.join(base_dir, \"code\", \"evaluation.py\")\n",
    ")"
   ]
  },
  {
   "cell_type": "code",
   "execution_count": 6,
   "metadata": {
    "execution": {
     "iopub.execute_input": "2025-10-29T09:02:44.513187Z",
     "iopub.status.busy": "2025-10-29T09:02:44.512960Z",
     "iopub.status.idle": "2025-10-29T09:02:48.329135Z",
     "shell.execute_reply": "2025-10-29T09:02:48.328555Z",
     "shell.execute_reply.started": "2025-10-29T09:02:44.513168Z"
    }
   },
   "outputs": [
    {
     "name": "stdout",
     "output_type": "stream",
     "text": [
      "Pipeline created: ResNet50-ADL-Pipeline\n",
      "Training output location: s3://amazon-sagemaker-946156973544-ap-southeast-1-6583c3ac0a8a/dzd-4uv7pknhqq5kgx/avt7vgtu28llb5/shared/ResNet50-ADL-Pipeline/training-output\n",
      "Pipeline definition: {\"Version\": \"2020-12-01\", \"Metadata\": {}, \"Parameters\": [{\"Name\": \"InputDataUri\", \"Type\": \"String\", \"DefaultValue\": \"s3://amazon-sagemaker-946156973544-ap-southeast-1-6583c3ac0a8a/dzd-4uv7pknhqq5kgx/avt7vgtu28llb5/shared/Dataset\"}, {\"Name\": \"ProcessingInstanceType\", \"Type\": \"String\", \"DefaultValue\": \"ml.m5.xlarge\"}, {\"Name\": \"TrainingInstanceType\", \"Type\": \"String\", \"DefaultValue\": \"ml.g4dn.xlarge\"}, {\"Name\": \"Epochs\", \"Type\": \"Integer\", \"DefaultValue\": 50}, {\"Name\": \"BatchSize\", \"Type\": \"Integer\", \"DefaultValue\": 16}, {\"Name\": \"DefectClasses\", \"Type\": \"String\", \"DefaultValue\": \"Diffuser_cover\"}], \"PipelineExperimentConfig\": {\"ExperimentName\": {\"Get\": \"Execution.PipelineName\"}, \"TrialName\": {\"Get\": \"Execution.PipelineExecutionId\"}}, \"Steps\": [{\"Name\": \"PreprocessData\", \"Type\": \"Processing\", \"Arguments\": {\"ProcessingResources\": {\"ClusterConfig\": {\"InstanceType\": {\"Get\": \"Parameters.ProcessingInstanceType\"}, \"InstanceCount\": 1, \"VolumeSizeInGB\": 30}}, \"AppSpecification\": {\"ImageUri\": \"121021644041.dkr.ecr.ap-southeast-1.amazonaws.com/sagemaker-scikit-learn:1.2-1-cpu-py3\", \"ContainerEntrypoint\": [\"python3\", \"/opt/ml/processing/input/code/processing.py\"]}, \"RoleArn\": \"arn:aws:iam::946156973544:role/datazone_usr_role_avt7vgtu28llb5_alq411sc6j0m5d\", \"ProcessingInputs\": [{\"InputName\": \"input-1\", \"AppManaged\": false, \"S3Input\": {\"S3Uri\": {\"Get\": \"Parameters.InputDataUri\"}, \"LocalPath\": \"/opt/ml/processing/input\", \"S3DataType\": \"S3Prefix\", \"S3InputMode\": \"File\", \"S3DataDistributionType\": \"FullyReplicated\", \"S3CompressionType\": \"None\"}}, {\"InputName\": \"code\", \"AppManaged\": false, \"S3Input\": {\"S3Uri\": \"s3://amazon-sagemaker-946156973544-ap-southeast-1-6583c3ac0a8a/dzd-4uv7pknhqq5kgx/avt7vgtu28llb5/dev/sagemaker-scikit-learn-2025-10-29-09-02-47-584/input/code/processing.py\", \"LocalPath\": \"/opt/ml/processing/input/code\", \"S3DataType\": \"S3Prefix\", \"S3InputMode\": \"File\", \"S3DataDistributionType\": \"FullyReplicated\", \"S3CompressionType\": \"None\"}}], \"ProcessingOutputConfig\": {\"Outputs\": [{\"OutputName\": \"train_data\", \"AppManaged\": false, \"S3Output\": {\"S3Uri\": \"s3://amazon-sagemaker-946156973544-ap-southeast-1-6583c3ac0a8a/dzd-4uv7pknhqq5kgx/avt7vgtu28llb5/shared/ResNet50-ADL-Pipeline/processed-data/train\", \"LocalPath\": \"/opt/ml/processing/output/train\", \"S3UploadMode\": \"EndOfJob\"}}, {\"OutputName\": \"val_data\", \"AppManaged\": false, \"S3Output\": {\"S3Uri\": \"s3://amazon-sagemaker-946156973544-ap-southeast-1-6583c3ac0a8a/dzd-4uv7pknhqq5kgx/avt7vgtu28llb5/shared/ResNet50-ADL-Pipeline/processed-data/val\", \"LocalPath\": \"/opt/ml/processing/output/val\", \"S3UploadMode\": \"EndOfJob\"}}]}, \"NetworkConfig\": {\"EnableNetworkIsolation\": false, \"VpcConfig\": {\"SecurityGroupIds\": [\"sg-08b97e55515796f3a\"], \"Subnets\": [\"subnet-0d946631a1f4f620e\", \"subnet-0437a574e7a35cfc1\"]}}}, \"CacheConfig\": {\"Enabled\": true, \"ExpireAfter\": \"30d\"}}, {\"Name\": \"TrainModel\", \"Type\": \"Training\", \"Arguments\": {\"AlgorithmSpecification\": {\"TrainingInputMode\": \"File\", \"TrainingImage\": \"763104351884.dkr.ecr.ap-southeast-1.amazonaws.com/pytorch-training:2.0.0-gpu-py310\", \"EnableSageMakerMetricsTimeSeries\": true}, \"OutputDataConfig\": {\"S3OutputPath\": \"s3://amazon-sagemaker-946156973544-ap-southeast-1-6583c3ac0a8a/dzd-4uv7pknhqq5kgx/avt7vgtu28llb5/shared/ResNet50-ADL-Pipeline/training-output\"}, \"StoppingCondition\": {\"MaxRuntimeInSeconds\": 86400}, \"ResourceConfig\": {\"VolumeSizeInGB\": 30, \"InstanceCount\": 1, \"InstanceType\": {\"Get\": \"Parameters.TrainingInstanceType\"}}, \"RoleArn\": \"arn:aws:iam::946156973544:role/datazone_usr_role_avt7vgtu28llb5_alq411sc6j0m5d\", \"InputDataConfig\": [{\"DataSource\": {\"S3DataSource\": {\"S3DataType\": \"S3Prefix\", \"S3Uri\": {\"Get\": \"Steps.PreprocessData.ProcessingOutputConfig.Outputs['train_data'].S3Output.S3Uri\"}, \"S3DataDistributionType\": \"FullyReplicated\"}}, \"ChannelName\": \"train\"}, {\"DataSource\": {\"S3DataSource\": {\"S3DataType\": \"S3Prefix\", \"S3Uri\": {\"Get\": \"Steps.PreprocessData.ProcessingOutputConfig.Outputs['val_data'].S3Output.S3Uri\"}, \"S3DataDistributionType\": \"FullyReplicated\"}}, \"ChannelName\": \"val\"}, {\"DataSource\": {\"S3DataSource\": {\"S3DataType\": \"S3Prefix\", \"S3Uri\": {\"Get\": \"Parameters.InputDataUri\"}, \"S3DataDistributionType\": \"FullyReplicated\"}}, \"ChannelName\": \"images\"}], \"HyperParameters\": {\"epochs\": {\"Std:Join\": {\"On\": \"\", \"Values\": [{\"Get\": \"Parameters.Epochs\"}]}}, \"batch_size\": {\"Std:Join\": {\"On\": \"\", \"Values\": [{\"Get\": \"Parameters.BatchSize\"}]}}, \"defect_classes\": {\"Get\": \"Parameters.DefectClasses\"}, \"lr\": \"0.001\", \"num_classes\": \"2\", \"drop_rate\": \"0.4\", \"drop_threshold\": \"0.8\", \"adl_alpha\": \"0.1\", \"patience\": \"5\", \"sagemaker_submit_directory\": \"\\\"s3://amazon-sagemaker-946156973544-ap-southeast-1-6583c3ac0a8a/pytorch-training-2025-10-29-09-02-47-720/source/sourcedir.tar.gz\\\"\", \"sagemaker_program\": \"\\\"training_all_folds.py\\\"\", \"sagemaker_container_log_level\": \"20\", \"sagemaker_region\": \"\\\"ap-southeast-1\\\"\"}, \"VpcConfig\": {\"Subnets\": [\"subnet-0d946631a1f4f620e\", \"subnet-0437a574e7a35cfc1\"], \"SecurityGroupIds\": [\"sg-08b97e55515796f3a\"]}, \"DebugHookConfig\": {\"S3OutputPath\": \"s3://amazon-sagemaker-946156973544-ap-southeast-1-6583c3ac0a8a/dzd-4uv7pknhqq5kgx/avt7vgtu28llb5/shared/ResNet50-ADL-Pipeline/training-output\", \"CollectionConfigurations\": []}, \"ProfilerConfig\": {\"S3OutputPath\": \"s3://amazon-sagemaker-946156973544-ap-southeast-1-6583c3ac0a8a/dzd-4uv7pknhqq5kgx/avt7vgtu28llb5/shared/ResNet50-ADL-Pipeline/training-output\", \"DisableProfiler\": false}}}, {\"Name\": \"EvaluateModel\", \"Type\": \"Processing\", \"Arguments\": {\"ProcessingResources\": {\"ClusterConfig\": {\"InstanceType\": {\"Get\": \"Parameters.ProcessingInstanceType\"}, \"InstanceCount\": 1, \"VolumeSizeInGB\": 30}}, \"AppSpecification\": {\"ImageUri\": \"121021644041.dkr.ecr.ap-southeast-1.amazonaws.com/sagemaker-scikit-learn:1.2-1-cpu-py3\", \"ContainerEntrypoint\": [\"python3\", \"/opt/ml/processing/input/code/evaluation.py\"]}, \"RoleArn\": \"arn:aws:iam::946156973544:role/datazone_usr_role_avt7vgtu28llb5_alq411sc6j0m5d\", \"ProcessingInputs\": [{\"InputName\": \"input-1\", \"AppManaged\": false, \"S3Input\": {\"S3Uri\": {\"Get\": \"Steps.TrainModel.ModelArtifacts.S3ModelArtifacts\"}, \"LocalPath\": \"/opt/ml/processing/model\", \"S3DataType\": \"S3Prefix\", \"S3InputMode\": \"File\", \"S3DataDistributionType\": \"FullyReplicated\", \"S3CompressionType\": \"None\"}}, {\"InputName\": \"code\", \"AppManaged\": false, \"S3Input\": {\"S3Uri\": \"s3://amazon-sagemaker-946156973544-ap-southeast-1-6583c3ac0a8a/dzd-4uv7pknhqq5kgx/avt7vgtu28llb5/dev/sagemaker-scikit-learn-2025-10-29-09-02-48-245/input/code/evaluation.py\", \"LocalPath\": \"/opt/ml/processing/input/code\", \"S3DataType\": \"S3Prefix\", \"S3InputMode\": \"File\", \"S3DataDistributionType\": \"FullyReplicated\", \"S3CompressionType\": \"None\"}}], \"ProcessingOutputConfig\": {\"Outputs\": [{\"OutputName\": \"evaluation\", \"AppManaged\": false, \"S3Output\": {\"S3Uri\": \"s3://amazon-sagemaker-946156973544-ap-southeast-1-6583c3ac0a8a/dzd-4uv7pknhqq5kgx/avt7vgtu28llb5/shared/ResNet50-ADL-Pipeline/evaluation\", \"LocalPath\": \"/opt/ml/processing/output\", \"S3UploadMode\": \"EndOfJob\"}}]}, \"NetworkConfig\": {\"EnableNetworkIsolation\": false, \"VpcConfig\": {\"SecurityGroupIds\": [\"sg-08b97e55515796f3a\"], \"Subnets\": [\"subnet-0d946631a1f4f620e\", \"subnet-0437a574e7a35cfc1\"]}}}}]}\n"
     ]
    }
   ],
   "source": [
    "# Create and execute the pipeline\n",
    "pipeline = Pipeline(\n",
    "    name=pipeline_name,\n",
    "    parameters=[\n",
    "        input_data_uri,\n",
    "        processing_instance_type,\n",
    "        training_instance_type,\n",
    "        epochs,\n",
    "        batch_size,\n",
    "        defect_classes\n",
    "    ],\n",
    "    steps=[processing_step, training_step, evaluation_step],\n",
    "    sagemaker_session=pipeline_session\n",
    ")\n",
    "\n",
    "# Create or update the pipeline\n",
    "pipeline.upsert(role_arn=role)\n",
    "\n",
    "print(f\"Pipeline created: {pipeline.name}\")\n",
    "print(f\"Training output location: s3://{training_output}\")\n",
    "print(f\"Pipeline definition: {pipeline.definition()}\")"
   ]
  },
  {
   "cell_type": "code",
   "execution_count": 7,
   "metadata": {
    "execution": {
     "iopub.execute_input": "2025-10-29T09:02:48.329973Z",
     "iopub.status.busy": "2025-10-29T09:02:48.329775Z",
     "iopub.status.idle": "2025-10-29T09:32:24.355864Z",
     "shell.execute_reply": "2025-10-29T09:32:24.354891Z",
     "shell.execute_reply.started": "2025-10-29T09:02:48.329955Z"
    }
   },
   "outputs": [
    {
     "name": "stdout",
     "output_type": "stream",
     "text": [
      "Pipeline execution started: arn:aws:sagemaker:ap-southeast-1:946156973544:pipeline/ResNet50-ADL-Pipeline/execution/bgmo0qq2mcd9\n",
      "Training defect classes: Diffuser_cover\n"
     ]
    },
    {
     "data": {
      "text/html": [
       "<pre style=\"white-space:pre;overflow-x:auto;line-height:normal;font-family:Menlo,'DejaVu Sans Mono',consolas,'Courier New',monospace\"><span style=\"color: #ff0000; text-decoration-color: #ff0000\">╭─────────────────────────────── </span><span style=\"color: #ff0000; text-decoration-color: #ff0000; font-weight: bold\">Traceback </span><span style=\"color: #ff7f7f; text-decoration-color: #ff7f7f; font-weight: bold\">(most recent call last)</span><span style=\"color: #ff0000; text-decoration-color: #ff0000\"> ────────────────────────────────╮</span>\n",
       "<span style=\"color: #ff0000; text-decoration-color: #ff0000\">│</span> in &lt;module&gt;:12                                                                                   <span style=\"color: #ff0000; text-decoration-color: #ff0000\">│</span>\n",
       "<span style=\"color: #ff0000; text-decoration-color: #ff0000\">│</span>                                                                                                  <span style=\"color: #ff0000; text-decoration-color: #ff0000\">│</span>\n",
       "<span style=\"color: #ff0000; text-decoration-color: #ff0000\">│</span>   <span style=\"color: #7f7f7f; text-decoration-color: #7f7f7f\"> 9 </span><span style=\"color: #00ffff; text-decoration-color: #00ffff\">print</span>(<span style=\"color: #808000; text-decoration-color: #808000\">f\"Training defect classes: {</span>DEFECT_CLASSES<span style=\"color: #808000; text-decoration-color: #808000\">}\"</span>)                                         <span style=\"color: #ff0000; text-decoration-color: #ff0000\">│</span>\n",
       "<span style=\"color: #ff0000; text-decoration-color: #ff0000\">│</span>   <span style=\"color: #7f7f7f; text-decoration-color: #7f7f7f\">10 </span>                                                                                            <span style=\"color: #ff0000; text-decoration-color: #ff0000\">│</span>\n",
       "<span style=\"color: #ff0000; text-decoration-color: #ff0000\">│</span>   <span style=\"color: #7f7f7f; text-decoration-color: #7f7f7f\">11 # Wait for completion</span>                                                                       <span style=\"color: #ff0000; text-decoration-color: #ff0000\">│</span>\n",
       "<span style=\"color: #ff0000; text-decoration-color: #ff0000\">│</span> <span style=\"color: #800000; text-decoration-color: #800000\">❱ </span>12 <span style=\"font-weight: bold; text-decoration: underline\">execution.wait()</span>                                                                            <span style=\"color: #ff0000; text-decoration-color: #ff0000\">│</span>\n",
       "<span style=\"color: #ff0000; text-decoration-color: #ff0000\">│</span>   <span style=\"color: #7f7f7f; text-decoration-color: #7f7f7f\">13 </span><span style=\"color: #00ffff; text-decoration-color: #00ffff\">print</span>(<span style=\"color: #808000; text-decoration-color: #808000\">f\"\\nPipeline execution completed!\"</span>)                                                   <span style=\"color: #ff0000; text-decoration-color: #ff0000\">│</span>\n",
       "<span style=\"color: #ff0000; text-decoration-color: #ff0000\">│</span>   <span style=\"color: #7f7f7f; text-decoration-color: #7f7f7f\">14 </span><span style=\"color: #00ffff; text-decoration-color: #00ffff\">print</span>(<span style=\"color: #808000; text-decoration-color: #808000\">f\"Evaluation results: s3://{</span>bucket_name<span style=\"color: #808000; text-decoration-color: #808000\">}/{</span>project_prefix<span style=\"color: #808000; text-decoration-color: #808000\">}/shared/{</span>pipeline_name<span style=\"color: #808000; text-decoration-color: #808000\">}/e</span>    <span style=\"color: #ff0000; text-decoration-color: #ff0000\">│</span>\n",
       "<span style=\"color: #ff0000; text-decoration-color: #ff0000\">│</span>   <span style=\"color: #7f7f7f; text-decoration-color: #7f7f7f\">15 </span>                                                                                            <span style=\"color: #ff0000; text-decoration-color: #ff0000\">│</span>\n",
       "<span style=\"color: #ff0000; text-decoration-color: #ff0000\">│</span>                                                                                                  <span style=\"color: #ff0000; text-decoration-color: #ff0000\">│</span>\n",
       "<span style=\"color: #ff0000; text-decoration-color: #ff0000\">│</span> <span style=\"color: #7f7f7f; text-decoration-color: #7f7f7f\">/opt/conda/lib/python3.12/site-packages/sagemaker/workflow/</span><span style=\"font-weight: bold\">pipeline.py</span>:938 in wait               <span style=\"color: #ff0000; text-decoration-color: #ff0000\">│</span>\n",
       "<span style=\"color: #ff0000; text-decoration-color: #ff0000\">│</span>                                                                                                  <span style=\"color: #ff0000; text-decoration-color: #ff0000\">│</span>\n",
       "<span style=\"color: #ff0000; text-decoration-color: #ff0000\">│</span>   <span style=\"color: #7f7f7f; text-decoration-color: #7f7f7f\"> 935 </span><span style=\"color: #7f7f7f; text-decoration-color: #7f7f7f\">│   │   </span>waiter = botocore.waiter.create_waiter_with_client(                               <span style=\"color: #ff0000; text-decoration-color: #ff0000\">│</span>\n",
       "<span style=\"color: #ff0000; text-decoration-color: #ff0000\">│</span>   <span style=\"color: #7f7f7f; text-decoration-color: #7f7f7f\"> 936 </span><span style=\"color: #7f7f7f; text-decoration-color: #7f7f7f\">│   │   │   </span>waiter_id, model, <span style=\"color: #00ffff; text-decoration-color: #00ffff\">self</span>.sagemaker_session.sagemaker_client                     <span style=\"color: #ff0000; text-decoration-color: #ff0000\">│</span>\n",
       "<span style=\"color: #ff0000; text-decoration-color: #ff0000\">│</span>   <span style=\"color: #7f7f7f; text-decoration-color: #7f7f7f\"> 937 </span><span style=\"color: #7f7f7f; text-decoration-color: #7f7f7f\">│   │   </span>)                                                                                 <span style=\"color: #ff0000; text-decoration-color: #ff0000\">│</span>\n",
       "<span style=\"color: #ff0000; text-decoration-color: #ff0000\">│</span> <span style=\"color: #800000; text-decoration-color: #800000\">❱ </span> 938 <span style=\"color: #7f7f7f; text-decoration-color: #7f7f7f\">│   │   </span><span style=\"font-weight: bold; text-decoration: underline\">waiter.wait(PipelineExecutionArn=</span><span style=\"color: #00ffff; text-decoration-color: #00ffff; font-weight: bold; text-decoration: underline\">self</span><span style=\"font-weight: bold; text-decoration: underline\">.arn)</span>                                        <span style=\"color: #ff0000; text-decoration-color: #ff0000\">│</span>\n",
       "<span style=\"color: #ff0000; text-decoration-color: #ff0000\">│</span>   <span style=\"color: #7f7f7f; text-decoration-color: #7f7f7f\"> 939 </span><span style=\"color: #7f7f7f; text-decoration-color: #7f7f7f\">│   </span>                                                                                      <span style=\"color: #ff0000; text-decoration-color: #ff0000\">│</span>\n",
       "<span style=\"color: #ff0000; text-decoration-color: #ff0000\">│</span>   <span style=\"color: #7f7f7f; text-decoration-color: #7f7f7f\"> 940 </span><span style=\"color: #7f7f7f; text-decoration-color: #7f7f7f\">│   </span><span style=\"color: #0000ff; text-decoration-color: #0000ff\">def</span><span style=\"color: #808080; text-decoration-color: #808080\"> </span><span style=\"color: #00ff00; text-decoration-color: #00ff00\">result</span>(<span style=\"color: #00ffff; text-decoration-color: #00ffff\">self</span>, step_name: <span style=\"color: #00ffff; text-decoration-color: #00ffff\">str</span>):                                                     <span style=\"color: #ff0000; text-decoration-color: #ff0000\">│</span>\n",
       "<span style=\"color: #ff0000; text-decoration-color: #ff0000\">│</span>   <span style=\"color: #7f7f7f; text-decoration-color: #7f7f7f\"> 941 </span><span style=\"color: #bfbfbf; text-decoration-color: #bfbfbf\">│   │   </span><span style=\"color: #808000; text-decoration-color: #808000\">\"\"\"Retrieves the output of the provided step if it is a ``@step`` decorated func</span>  <span style=\"color: #ff0000; text-decoration-color: #ff0000\">│</span>\n",
       "<span style=\"color: #ff0000; text-decoration-color: #ff0000\">│</span>                                                                                                  <span style=\"color: #ff0000; text-decoration-color: #ff0000\">│</span>\n",
       "<span style=\"color: #ff0000; text-decoration-color: #ff0000\">│</span> <span style=\"color: #7f7f7f; text-decoration-color: #7f7f7f\">/opt/conda/lib/python3.12/site-packages/botocore/</span><span style=\"font-weight: bold\">waiter.py</span>:55 in wait                            <span style=\"color: #ff0000; text-decoration-color: #ff0000\">│</span>\n",
       "<span style=\"color: #ff0000; text-decoration-color: #ff0000\">│</span>                                                                                                  <span style=\"color: #ff0000; text-decoration-color: #ff0000\">│</span>\n",
       "<span style=\"color: #ff0000; text-decoration-color: #ff0000\">│</span>   <span style=\"color: #7f7f7f; text-decoration-color: #7f7f7f\"> 52 </span><span style=\"color: #7f7f7f; text-decoration-color: #7f7f7f\">│   </span><span style=\"color: #7f7f7f; text-decoration-color: #7f7f7f\"># Waiter.wait method. This is needed to attach a docstring to the</span>                      <span style=\"color: #ff0000; text-decoration-color: #ff0000\">│</span>\n",
       "<span style=\"color: #ff0000; text-decoration-color: #ff0000\">│</span>   <span style=\"color: #7f7f7f; text-decoration-color: #7f7f7f\"> 53 </span><span style=\"color: #7f7f7f; text-decoration-color: #7f7f7f\">│   </span><span style=\"color: #7f7f7f; text-decoration-color: #7f7f7f\"># method.</span>                                                                              <span style=\"color: #ff0000; text-decoration-color: #ff0000\">│</span>\n",
       "<span style=\"color: #ff0000; text-decoration-color: #ff0000\">│</span>   <span style=\"color: #7f7f7f; text-decoration-color: #7f7f7f\"> 54 </span><span style=\"color: #7f7f7f; text-decoration-color: #7f7f7f\">│   </span><span style=\"color: #0000ff; text-decoration-color: #0000ff\">def</span><span style=\"color: #808080; text-decoration-color: #808080\"> </span><span style=\"color: #00ff00; text-decoration-color: #00ff00\">wait</span>(<span style=\"color: #00ffff; text-decoration-color: #00ffff\">self</span>, **kwargs):                                                              <span style=\"color: #ff0000; text-decoration-color: #ff0000\">│</span>\n",
       "<span style=\"color: #ff0000; text-decoration-color: #ff0000\">│</span> <span style=\"color: #800000; text-decoration-color: #800000\">❱ </span> 55 <span style=\"color: #7f7f7f; text-decoration-color: #7f7f7f\">│   │   </span><span style=\"font-weight: bold; text-decoration: underline\">Waiter.wait(</span><span style=\"color: #00ffff; text-decoration-color: #00ffff; font-weight: bold; text-decoration: underline\">self</span><span style=\"font-weight: bold; text-decoration: underline\">, **kwargs)</span>                                                        <span style=\"color: #ff0000; text-decoration-color: #ff0000\">│</span>\n",
       "<span style=\"color: #ff0000; text-decoration-color: #ff0000\">│</span>   <span style=\"color: #7f7f7f; text-decoration-color: #7f7f7f\"> 56 </span><span style=\"color: #7f7f7f; text-decoration-color: #7f7f7f\">│   </span>                                                                                       <span style=\"color: #ff0000; text-decoration-color: #ff0000\">│</span>\n",
       "<span style=\"color: #ff0000; text-decoration-color: #ff0000\">│</span>   <span style=\"color: #7f7f7f; text-decoration-color: #7f7f7f\"> 57 </span><span style=\"color: #7f7f7f; text-decoration-color: #7f7f7f\">│   </span>wait.<span style=\"color: #ff0000; text-decoration-color: #ff0000\">__doc__</span> = WaiterDocstring(                                                        <span style=\"color: #ff0000; text-decoration-color: #ff0000\">│</span>\n",
       "<span style=\"color: #ff0000; text-decoration-color: #ff0000\">│</span>   <span style=\"color: #7f7f7f; text-decoration-color: #7f7f7f\"> 58 </span><span style=\"color: #7f7f7f; text-decoration-color: #7f7f7f\">│   │   </span>waiter_name=waiter_name,                                                           <span style=\"color: #ff0000; text-decoration-color: #ff0000\">│</span>\n",
       "<span style=\"color: #ff0000; text-decoration-color: #ff0000\">│</span>                                                                                                  <span style=\"color: #ff0000; text-decoration-color: #ff0000\">│</span>\n",
       "<span style=\"color: #ff0000; text-decoration-color: #ff0000\">│</span> <span style=\"color: #7f7f7f; text-decoration-color: #7f7f7f\">/opt/conda/lib/python3.12/site-packages/botocore/</span><span style=\"font-weight: bold\">waiter.py</span>:387 in wait                           <span style=\"color: #ff0000; text-decoration-color: #ff0000\">│</span>\n",
       "<span style=\"color: #ff0000; text-decoration-color: #ff0000\">│</span>                                                                                                  <span style=\"color: #ff0000; text-decoration-color: #ff0000\">│</span>\n",
       "<span style=\"color: #ff0000; text-decoration-color: #ff0000\">│</span>   <span style=\"color: #7f7f7f; text-decoration-color: #7f7f7f\">384 </span><span style=\"color: #7f7f7f; text-decoration-color: #7f7f7f\">│   │   │   │   │   │   </span><span style=\"color: #808000; text-decoration-color: #808000\">f'Max attempts exceeded. Previously accepted state: '</span>              <span style=\"color: #ff0000; text-decoration-color: #ff0000\">│</span>\n",
       "<span style=\"color: #ff0000; text-decoration-color: #ff0000\">│</span>   <span style=\"color: #7f7f7f; text-decoration-color: #7f7f7f\">385 </span><span style=\"color: #7f7f7f; text-decoration-color: #7f7f7f\">│   │   │   │   │   │   </span><span style=\"color: #808000; text-decoration-color: #808000\">f'{</span>acceptor.explanation<span style=\"color: #808000; text-decoration-color: #808000\">}'</span>                                          <span style=\"color: #ff0000; text-decoration-color: #ff0000\">│</span>\n",
       "<span style=\"color: #ff0000; text-decoration-color: #ff0000\">│</span>   <span style=\"color: #7f7f7f; text-decoration-color: #7f7f7f\">386 </span><span style=\"color: #7f7f7f; text-decoration-color: #7f7f7f\">│   │   │   │   │   </span>)                                                                      <span style=\"color: #ff0000; text-decoration-color: #ff0000\">│</span>\n",
       "<span style=\"color: #ff0000; text-decoration-color: #ff0000\">│</span> <span style=\"color: #800000; text-decoration-color: #800000\">❱ </span>387 <span style=\"color: #7f7f7f; text-decoration-color: #7f7f7f\">│   │   │   │   </span><span style=\"color: #0000ff; text-decoration-color: #0000ff; font-weight: bold; text-decoration: underline\">raise</span><span style=\"font-weight: bold; text-decoration: underline\"> WaiterError(</span>                                                         <span style=\"color: #ff0000; text-decoration-color: #ff0000\">│</span>\n",
       "<span style=\"color: #ff0000; text-decoration-color: #ff0000\">│</span>   <span style=\"color: #7f7f7f; text-decoration-color: #7f7f7f\">388 </span><span style=\"color: #7f7f7f; text-decoration-color: #7f7f7f\">│   │   │   │   │   </span><span style=\"font-weight: bold; text-decoration: underline\">name=</span><span style=\"color: #00ffff; text-decoration-color: #00ffff; font-weight: bold; text-decoration: underline\">self</span><span style=\"font-weight: bold; text-decoration: underline\">.name,</span>                                                        <span style=\"color: #ff0000; text-decoration-color: #ff0000\">│</span>\n",
       "<span style=\"color: #ff0000; text-decoration-color: #ff0000\">│</span>   <span style=\"color: #7f7f7f; text-decoration-color: #7f7f7f\">389 </span><span style=\"color: #7f7f7f; text-decoration-color: #7f7f7f\">│   │   │   │   │   </span><span style=\"font-weight: bold; text-decoration: underline\">reason=reason,</span>                                                         <span style=\"color: #ff0000; text-decoration-color: #ff0000\">│</span>\n",
       "<span style=\"color: #ff0000; text-decoration-color: #ff0000\">│</span>   <span style=\"color: #7f7f7f; text-decoration-color: #7f7f7f\">390 </span><span style=\"color: #7f7f7f; text-decoration-color: #7f7f7f\">│   │   │   │   │   </span><span style=\"font-weight: bold; text-decoration: underline\">last_response=response,</span>                                                <span style=\"color: #ff0000; text-decoration-color: #ff0000\">│</span>\n",
       "<span style=\"color: #ff0000; text-decoration-color: #ff0000\">╰──────────────────────────────────────────────────────────────────────────────────────────────────╯</span>\n",
       "<span style=\"color: #ff0000; text-decoration-color: #ff0000; font-weight: bold\">WaiterError: </span>Waiter PipelineExecutionComplete failed: Max attempts exceeded\n",
       "</pre>\n"
      ],
      "text/plain": [
       "\u001b[38;2;255;0;0m╭─\u001b[0m\u001b[38;2;255;0;0m──────────────────────────────\u001b[0m\u001b[38;2;255;0;0m \u001b[0m\u001b[1;38;2;255;0;0mTraceback \u001b[0m\u001b[1;2;38;2;255;0;0m(most recent call last)\u001b[0m\u001b[38;2;255;0;0m \u001b[0m\u001b[38;2;255;0;0m───────────────────────────────\u001b[0m\u001b[38;2;255;0;0m─╮\u001b[0m\n",
       "\u001b[38;2;255;0;0m│\u001b[0m in <module>:12                                                                                   \u001b[38;2;255;0;0m│\u001b[0m\n",
       "\u001b[38;2;255;0;0m│\u001b[0m                                                                                                  \u001b[38;2;255;0;0m│\u001b[0m\n",
       "\u001b[38;2;255;0;0m│\u001b[0m   \u001b[2m 9 \u001b[0m\u001b[96mprint\u001b[0m(\u001b[33mf\u001b[0m\u001b[33m\"\u001b[0m\u001b[33mTraining defect classes: \u001b[0m\u001b[33m{\u001b[0mDEFECT_CLASSES\u001b[33m}\u001b[0m\u001b[33m\"\u001b[0m)                                         \u001b[38;2;255;0;0m│\u001b[0m\n",
       "\u001b[38;2;255;0;0m│\u001b[0m   \u001b[2m10 \u001b[0m                                                                                            \u001b[38;2;255;0;0m│\u001b[0m\n",
       "\u001b[38;2;255;0;0m│\u001b[0m   \u001b[2m11 \u001b[0m\u001b[2m# Wait for completion\u001b[0m                                                                       \u001b[38;2;255;0;0m│\u001b[0m\n",
       "\u001b[38;2;255;0;0m│\u001b[0m \u001b[31m❱ \u001b[0m12 \u001b[1;4mexecution.wait()\u001b[0m                                                                            \u001b[38;2;255;0;0m│\u001b[0m\n",
       "\u001b[38;2;255;0;0m│\u001b[0m   \u001b[2m13 \u001b[0m\u001b[96mprint\u001b[0m(\u001b[33mf\u001b[0m\u001b[33m\"\u001b[0m\u001b[33m\\n\u001b[0m\u001b[33mPipeline execution completed!\u001b[0m\u001b[33m\"\u001b[0m)                                                   \u001b[38;2;255;0;0m│\u001b[0m\n",
       "\u001b[38;2;255;0;0m│\u001b[0m   \u001b[2m14 \u001b[0m\u001b[96mprint\u001b[0m(\u001b[33mf\u001b[0m\u001b[33m\"\u001b[0m\u001b[33mEvaluation results: s3://\u001b[0m\u001b[33m{\u001b[0mbucket_name\u001b[33m}\u001b[0m\u001b[33m/\u001b[0m\u001b[33m{\u001b[0mproject_prefix\u001b[33m}\u001b[0m\u001b[33m/shared/\u001b[0m\u001b[33m{\u001b[0mpipeline_name\u001b[33m}\u001b[0m\u001b[33m/e\u001b[0m    \u001b[38;2;255;0;0m│\u001b[0m\n",
       "\u001b[38;2;255;0;0m│\u001b[0m   \u001b[2m15 \u001b[0m                                                                                            \u001b[38;2;255;0;0m│\u001b[0m\n",
       "\u001b[38;2;255;0;0m│\u001b[0m                                                                                                  \u001b[38;2;255;0;0m│\u001b[0m\n",
       "\u001b[38;2;255;0;0m│\u001b[0m \u001b[2m/opt/conda/lib/python3.12/site-packages/sagemaker/workflow/\u001b[0m\u001b[1mpipeline.py\u001b[0m:938 in wait               \u001b[38;2;255;0;0m│\u001b[0m\n",
       "\u001b[38;2;255;0;0m│\u001b[0m                                                                                                  \u001b[38;2;255;0;0m│\u001b[0m\n",
       "\u001b[38;2;255;0;0m│\u001b[0m   \u001b[2m 935 \u001b[0m\u001b[2m│   │   \u001b[0mwaiter = botocore.waiter.create_waiter_with_client(                               \u001b[38;2;255;0;0m│\u001b[0m\n",
       "\u001b[38;2;255;0;0m│\u001b[0m   \u001b[2m 936 \u001b[0m\u001b[2m│   │   │   \u001b[0mwaiter_id, model, \u001b[96mself\u001b[0m.sagemaker_session.sagemaker_client                     \u001b[38;2;255;0;0m│\u001b[0m\n",
       "\u001b[38;2;255;0;0m│\u001b[0m   \u001b[2m 937 \u001b[0m\u001b[2m│   │   \u001b[0m)                                                                                 \u001b[38;2;255;0;0m│\u001b[0m\n",
       "\u001b[38;2;255;0;0m│\u001b[0m \u001b[31m❱ \u001b[0m 938 \u001b[2m│   │   \u001b[0m\u001b[1;4mwaiter.wait(PipelineExecutionArn=\u001b[0m\u001b[1;4;96mself\u001b[0m\u001b[1;4m.arn)\u001b[0m                                        \u001b[38;2;255;0;0m│\u001b[0m\n",
       "\u001b[38;2;255;0;0m│\u001b[0m   \u001b[2m 939 \u001b[0m\u001b[2m│   \u001b[0m                                                                                      \u001b[38;2;255;0;0m│\u001b[0m\n",
       "\u001b[38;2;255;0;0m│\u001b[0m   \u001b[2m 940 \u001b[0m\u001b[2m│   \u001b[0m\u001b[94mdef\u001b[0m\u001b[90m \u001b[0m\u001b[92mresult\u001b[0m(\u001b[96mself\u001b[0m, step_name: \u001b[96mstr\u001b[0m):                                                     \u001b[38;2;255;0;0m│\u001b[0m\n",
       "\u001b[38;2;255;0;0m│\u001b[0m   \u001b[2m 941 \u001b[0m\u001b[2;90m│   │   \u001b[0m\u001b[33m\"\"\"Retrieves the output of the provided step if it is a ``@step`` decorated func\u001b[0m  \u001b[38;2;255;0;0m│\u001b[0m\n",
       "\u001b[38;2;255;0;0m│\u001b[0m                                                                                                  \u001b[38;2;255;0;0m│\u001b[0m\n",
       "\u001b[38;2;255;0;0m│\u001b[0m \u001b[2m/opt/conda/lib/python3.12/site-packages/botocore/\u001b[0m\u001b[1mwaiter.py\u001b[0m:55 in wait                            \u001b[38;2;255;0;0m│\u001b[0m\n",
       "\u001b[38;2;255;0;0m│\u001b[0m                                                                                                  \u001b[38;2;255;0;0m│\u001b[0m\n",
       "\u001b[38;2;255;0;0m│\u001b[0m   \u001b[2m 52 \u001b[0m\u001b[2m│   \u001b[0m\u001b[2m# Waiter.wait method. This is needed to attach a docstring to the\u001b[0m                      \u001b[38;2;255;0;0m│\u001b[0m\n",
       "\u001b[38;2;255;0;0m│\u001b[0m   \u001b[2m 53 \u001b[0m\u001b[2m│   \u001b[0m\u001b[2m# method.\u001b[0m                                                                              \u001b[38;2;255;0;0m│\u001b[0m\n",
       "\u001b[38;2;255;0;0m│\u001b[0m   \u001b[2m 54 \u001b[0m\u001b[2m│   \u001b[0m\u001b[94mdef\u001b[0m\u001b[90m \u001b[0m\u001b[92mwait\u001b[0m(\u001b[96mself\u001b[0m, **kwargs):                                                              \u001b[38;2;255;0;0m│\u001b[0m\n",
       "\u001b[38;2;255;0;0m│\u001b[0m \u001b[31m❱ \u001b[0m 55 \u001b[2m│   │   \u001b[0m\u001b[1;4mWaiter.wait(\u001b[0m\u001b[1;4;96mself\u001b[0m\u001b[1;4m, **kwargs)\u001b[0m                                                        \u001b[38;2;255;0;0m│\u001b[0m\n",
       "\u001b[38;2;255;0;0m│\u001b[0m   \u001b[2m 56 \u001b[0m\u001b[2m│   \u001b[0m                                                                                       \u001b[38;2;255;0;0m│\u001b[0m\n",
       "\u001b[38;2;255;0;0m│\u001b[0m   \u001b[2m 57 \u001b[0m\u001b[2m│   \u001b[0mwait.\u001b[91m__doc__\u001b[0m = WaiterDocstring(                                                        \u001b[38;2;255;0;0m│\u001b[0m\n",
       "\u001b[38;2;255;0;0m│\u001b[0m   \u001b[2m 58 \u001b[0m\u001b[2m│   │   \u001b[0mwaiter_name=waiter_name,                                                           \u001b[38;2;255;0;0m│\u001b[0m\n",
       "\u001b[38;2;255;0;0m│\u001b[0m                                                                                                  \u001b[38;2;255;0;0m│\u001b[0m\n",
       "\u001b[38;2;255;0;0m│\u001b[0m \u001b[2m/opt/conda/lib/python3.12/site-packages/botocore/\u001b[0m\u001b[1mwaiter.py\u001b[0m:387 in wait                           \u001b[38;2;255;0;0m│\u001b[0m\n",
       "\u001b[38;2;255;0;0m│\u001b[0m                                                                                                  \u001b[38;2;255;0;0m│\u001b[0m\n",
       "\u001b[38;2;255;0;0m│\u001b[0m   \u001b[2m384 \u001b[0m\u001b[2m│   │   │   │   │   │   \u001b[0m\u001b[33mf\u001b[0m\u001b[33m'\u001b[0m\u001b[33mMax attempts exceeded. Previously accepted state: \u001b[0m\u001b[33m'\u001b[0m              \u001b[38;2;255;0;0m│\u001b[0m\n",
       "\u001b[38;2;255;0;0m│\u001b[0m   \u001b[2m385 \u001b[0m\u001b[2m│   │   │   │   │   │   \u001b[0m\u001b[33mf\u001b[0m\u001b[33m'\u001b[0m\u001b[33m{\u001b[0macceptor.explanation\u001b[33m}\u001b[0m\u001b[33m'\u001b[0m                                          \u001b[38;2;255;0;0m│\u001b[0m\n",
       "\u001b[38;2;255;0;0m│\u001b[0m   \u001b[2m386 \u001b[0m\u001b[2m│   │   │   │   │   \u001b[0m)                                                                      \u001b[38;2;255;0;0m│\u001b[0m\n",
       "\u001b[38;2;255;0;0m│\u001b[0m \u001b[31m❱ \u001b[0m387 \u001b[2m│   │   │   │   \u001b[0m\u001b[1;4;94mraise\u001b[0m\u001b[1;4m WaiterError(\u001b[0m                                                         \u001b[38;2;255;0;0m│\u001b[0m\n",
       "\u001b[38;2;255;0;0m│\u001b[0m   \u001b[2m388 \u001b[0m\u001b[2m│   │   │   │   │   \u001b[0m\u001b[1;4mname=\u001b[0m\u001b[1;4;96mself\u001b[0m\u001b[1;4m.name,\u001b[0m                                                        \u001b[38;2;255;0;0m│\u001b[0m\n",
       "\u001b[38;2;255;0;0m│\u001b[0m   \u001b[2m389 \u001b[0m\u001b[2m│   │   │   │   │   \u001b[0m\u001b[1;4mreason=reason,\u001b[0m                                                         \u001b[38;2;255;0;0m│\u001b[0m\n",
       "\u001b[38;2;255;0;0m│\u001b[0m   \u001b[2m390 \u001b[0m\u001b[2m│   │   │   │   │   \u001b[0m\u001b[1;4mlast_response=response,\u001b[0m                                                \u001b[38;2;255;0;0m│\u001b[0m\n",
       "\u001b[38;2;255;0;0m╰──────────────────────────────────────────────────────────────────────────────────────────────────╯\u001b[0m\n",
       "\u001b[1;91mWaiterError: \u001b[0mWaiter PipelineExecutionComplete failed: Max attempts exceeded\n"
      ]
     },
     "metadata": {},
     "output_type": "display_data"
    },
    {
     "data": {
      "application/sagemaker-interactive-debugging": {
       "cell_id": "30e3e65b-0a1b-4f2a-b742-503cc34af08b",
       "debugging_info_folder": "/home/sagemaker-user/shared/.temp_sagemaker_unified_studio_debugging_info/30e3e65b-0a1b-4f2a-b742-503cc34af08b",
       "instruction_file": "/home/sagemaker-user/shared/.temp_sagemaker_unified_studio_debugging_info/ipython_debugging_sop.txt",
       "magic_command": "no_magic",
       "session_type": "python_3"
      }
     },
     "metadata": {},
     "output_type": "display_data"
    }
   ],
   "source": [
    "# Execute the pipeline\n",
    "execution = pipeline.start(\n",
    "    parameters={\n",
    "        \"DefectClasses\": DEFECT_CLASSES\n",
    "    }\n",
    ")\n",
    "\n",
    "print(f\"Pipeline execution started: {execution.arn}\")\n",
    "print(f\"Training defect classes: {DEFECT_CLASSES}\")\n",
    "\n",
    "# Wait for completion\n",
    "execution.wait()\n",
    "print(f\"\\nPipeline execution completed!\")\n",
    "print(f\"Evaluation results: s3://{bucket_name}/{project_prefix}/shared/{pipeline_name}/evaluation\")"
   ]
  }
 ],
 "metadata": {
  "kernelspec": {
   "display_name": "Python 3 (ipykernel)",
   "language": "python",
   "name": "python3"
  },
  "language_info": {
   "codemirror_mode": {
    "name": "ipython",
    "version": 3
   },
   "file_extension": ".py",
   "mimetype": "text/x-python",
   "name": "python",
   "nbconvert_exporter": "python",
   "pygments_lexer": "ipython3",
   "version": "3.12.9"
  }
 },
 "nbformat": 4,
 "nbformat_minor": 4
}
